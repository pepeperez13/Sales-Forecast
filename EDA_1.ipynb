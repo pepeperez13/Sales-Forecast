{
 "cells": [
  {
   "cell_type": "code",
   "execution_count": 1,
   "metadata": {
    "vscode": {
     "languageId": "r"
    }
   },
   "outputs": [
    {
     "name": "stderr",
     "output_type": "stream",
     "text": [
      "Registered S3 method overwritten by 'tsibble':\n",
      "  method               from \n",
      "  as_tibble.grouped_df dplyr\n",
      "\n",
      "── \u001b[1mAttaching packages\u001b[22m ──────────────────────────────────────────── fpp3 1.0.1 ──\n",
      "\n",
      "\u001b[32m✔\u001b[39m \u001b[34mtibble     \u001b[39m 3.2.1     \u001b[32m✔\u001b[39m \u001b[34mtsibble    \u001b[39m 1.1.5\n",
      "\u001b[32m✔\u001b[39m \u001b[34mdplyr      \u001b[39m 1.1.4     \u001b[32m✔\u001b[39m \u001b[34mtsibbledata\u001b[39m 0.4.1\n",
      "\u001b[32m✔\u001b[39m \u001b[34mtidyr      \u001b[39m 1.3.1     \u001b[32m✔\u001b[39m \u001b[34mfeasts     \u001b[39m 0.4.1\n",
      "\u001b[32m✔\u001b[39m \u001b[34mlubridate  \u001b[39m 1.9.3     \u001b[32m✔\u001b[39m \u001b[34mfable      \u001b[39m 0.4.0\n",
      "\u001b[32m✔\u001b[39m \u001b[34mggplot2    \u001b[39m 3.5.1     \n",
      "\n",
      "── \u001b[1mConflicts\u001b[22m ───────────────────────────────────────────────── fpp3_conflicts ──\n",
      "\u001b[31m✖\u001b[39m \u001b[34mlubridate\u001b[39m::\u001b[32mdate()\u001b[39m    masks \u001b[34mbase\u001b[39m::date()\n",
      "\u001b[31m✖\u001b[39m \u001b[34mdplyr\u001b[39m::\u001b[32mfilter()\u001b[39m      masks \u001b[34mstats\u001b[39m::filter()\n",
      "\u001b[31m✖\u001b[39m \u001b[34mtsibble\u001b[39m::\u001b[32mintersect()\u001b[39m masks \u001b[34mbase\u001b[39m::intersect()\n",
      "\u001b[31m✖\u001b[39m \u001b[34mtsibble\u001b[39m::\u001b[32minterval()\u001b[39m  masks \u001b[34mlubridate\u001b[39m::interval()\n",
      "\u001b[31m✖\u001b[39m \u001b[34mdplyr\u001b[39m::\u001b[32mlag()\u001b[39m         masks \u001b[34mstats\u001b[39m::lag()\n",
      "\u001b[31m✖\u001b[39m \u001b[34mtsibble\u001b[39m::\u001b[32msetdiff()\u001b[39m   masks \u001b[34mbase\u001b[39m::setdiff()\n",
      "\u001b[31m✖\u001b[39m \u001b[34mtsibble\u001b[39m::\u001b[32munion()\u001b[39m     masks \u001b[34mbase\u001b[39m::union()\n",
      "\n"
     ]
    }
   ],
   "source": [
    "library(fpp3)"
   ]
  },
  {
   "cell_type": "code",
   "execution_count": 2,
   "metadata": {
    "vscode": {
     "languageId": "r"
    }
   },
   "outputs": [],
   "source": [
    "calendar <- read.csv(\"data/calendar_afcs2024.csv\")\n",
    "sell_prices <- read.csv(\"data/sell_prices_afcs2024.csv\")\n",
    "sales_train_validation <- read.csv(\"data/sales_train_validation_afcs2024.csv\")\n",
    "sales_test_validation <- read.csv(\"data/sales_test_validation_afcs2024.csv\")\n",
    "sample_submission <- read.csv(\"data/sample_submission_afcs2024.csv\")\n",
    "sales_test_evaluation <- read.csv(\"data/sales_test_evaluation_afcs_2024.csv\")"
   ]
  },
  {
   "cell_type": "markdown",
   "metadata": {},
   "source": [
    "# Number of sales"
   ]
  },
  {
   "cell_type": "code",
   "execution_count": 3,
   "metadata": {
    "vscode": {
     "languageId": "r"
    }
   },
   "outputs": [
    {
     "data": {
      "text/html": [
       "<table class=\"dataframe\">\n",
       "<caption>A data.frame: 6 × 1914</caption>\n",
       "<thead>\n",
       "\t<tr><th></th><th scope=col>id</th><th scope=col>d_1</th><th scope=col>d_2</th><th scope=col>d_3</th><th scope=col>d_4</th><th scope=col>d_5</th><th scope=col>d_6</th><th scope=col>d_7</th><th scope=col>d_8</th><th scope=col>d_9</th><th scope=col>⋯</th><th scope=col>d_1904</th><th scope=col>d_1905</th><th scope=col>d_1906</th><th scope=col>d_1907</th><th scope=col>d_1908</th><th scope=col>d_1909</th><th scope=col>d_1910</th><th scope=col>d_1911</th><th scope=col>d_1912</th><th scope=col>d_1913</th></tr>\n",
       "\t<tr><th></th><th scope=col>&lt;chr&gt;</th><th scope=col>&lt;int&gt;</th><th scope=col>&lt;int&gt;</th><th scope=col>&lt;int&gt;</th><th scope=col>&lt;int&gt;</th><th scope=col>&lt;int&gt;</th><th scope=col>&lt;int&gt;</th><th scope=col>&lt;int&gt;</th><th scope=col>&lt;int&gt;</th><th scope=col>&lt;int&gt;</th><th scope=col>⋯</th><th scope=col>&lt;int&gt;</th><th scope=col>&lt;int&gt;</th><th scope=col>&lt;int&gt;</th><th scope=col>&lt;int&gt;</th><th scope=col>&lt;int&gt;</th><th scope=col>&lt;int&gt;</th><th scope=col>&lt;int&gt;</th><th scope=col>&lt;int&gt;</th><th scope=col>&lt;int&gt;</th><th scope=col>&lt;int&gt;</th></tr>\n",
       "</thead>\n",
       "<tbody>\n",
       "\t<tr><th scope=row>1</th><td>FOODS_3_001_TX_3_validation</td><td>0</td><td>2</td><td>1</td><td>3</td><td>0</td><td>0</td><td>1</td><td>0</td><td>2</td><td>⋯</td><td>0</td><td>0</td><td>0</td><td>0</td><td>2</td><td>0</td><td>0</td><td>5</td><td>2</td><td>0</td></tr>\n",
       "\t<tr><th scope=row>2</th><td>FOODS_3_002_TX_3_validation</td><td>0</td><td>0</td><td>0</td><td>0</td><td>0</td><td>0</td><td>0</td><td>0</td><td>0</td><td>⋯</td><td>0</td><td>0</td><td>0</td><td>0</td><td>0</td><td>0</td><td>0</td><td>0</td><td>0</td><td>0</td></tr>\n",
       "\t<tr><th scope=row>3</th><td>FOODS_3_003_TX_3_validation</td><td>0</td><td>0</td><td>0</td><td>0</td><td>0</td><td>0</td><td>0</td><td>0</td><td>0</td><td>⋯</td><td>1</td><td>1</td><td>0</td><td>0</td><td>1</td><td>0</td><td>0</td><td>1</td><td>0</td><td>0</td></tr>\n",
       "\t<tr><th scope=row>4</th><td>FOODS_3_004_TX_3_validation</td><td>0</td><td>0</td><td>0</td><td>0</td><td>0</td><td>0</td><td>0</td><td>0</td><td>0</td><td>⋯</td><td>0</td><td>0</td><td>2</td><td>0</td><td>0</td><td>0</td><td>0</td><td>0</td><td>0</td><td>0</td></tr>\n",
       "\t<tr><th scope=row>5</th><td>FOODS_3_005_TX_3_validation</td><td>0</td><td>1</td><td>1</td><td>0</td><td>0</td><td>1</td><td>2</td><td>0</td><td>0</td><td>⋯</td><td>0</td><td>4</td><td>2</td><td>1</td><td>1</td><td>0</td><td>1</td><td>0</td><td>4</td><td>0</td></tr>\n",
       "\t<tr><th scope=row>6</th><td>FOODS_3_006_TX_3_validation</td><td>0</td><td>0</td><td>0</td><td>0</td><td>0</td><td>0</td><td>0</td><td>0</td><td>0</td><td>⋯</td><td>0</td><td>0</td><td>2</td><td>1</td><td>0</td><td>0</td><td>1</td><td>1</td><td>1</td><td>0</td></tr>\n",
       "</tbody>\n",
       "</table>\n"
      ],
      "text/latex": [
       "A data.frame: 6 × 1914\n",
       "\\begin{tabular}{r|lllllllllllllllllllll}\n",
       "  & id & d\\_1 & d\\_2 & d\\_3 & d\\_4 & d\\_5 & d\\_6 & d\\_7 & d\\_8 & d\\_9 & ⋯ & d\\_1904 & d\\_1905 & d\\_1906 & d\\_1907 & d\\_1908 & d\\_1909 & d\\_1910 & d\\_1911 & d\\_1912 & d\\_1913\\\\\n",
       "  & <chr> & <int> & <int> & <int> & <int> & <int> & <int> & <int> & <int> & <int> & ⋯ & <int> & <int> & <int> & <int> & <int> & <int> & <int> & <int> & <int> & <int>\\\\\n",
       "\\hline\n",
       "\t1 & FOODS\\_3\\_001\\_TX\\_3\\_validation & 0 & 2 & 1 & 3 & 0 & 0 & 1 & 0 & 2 & ⋯ & 0 & 0 & 0 & 0 & 2 & 0 & 0 & 5 & 2 & 0\\\\\n",
       "\t2 & FOODS\\_3\\_002\\_TX\\_3\\_validation & 0 & 0 & 0 & 0 & 0 & 0 & 0 & 0 & 0 & ⋯ & 0 & 0 & 0 & 0 & 0 & 0 & 0 & 0 & 0 & 0\\\\\n",
       "\t3 & FOODS\\_3\\_003\\_TX\\_3\\_validation & 0 & 0 & 0 & 0 & 0 & 0 & 0 & 0 & 0 & ⋯ & 1 & 1 & 0 & 0 & 1 & 0 & 0 & 1 & 0 & 0\\\\\n",
       "\t4 & FOODS\\_3\\_004\\_TX\\_3\\_validation & 0 & 0 & 0 & 0 & 0 & 0 & 0 & 0 & 0 & ⋯ & 0 & 0 & 2 & 0 & 0 & 0 & 0 & 0 & 0 & 0\\\\\n",
       "\t5 & FOODS\\_3\\_005\\_TX\\_3\\_validation & 0 & 1 & 1 & 0 & 0 & 1 & 2 & 0 & 0 & ⋯ & 0 & 4 & 2 & 1 & 1 & 0 & 1 & 0 & 4 & 0\\\\\n",
       "\t6 & FOODS\\_3\\_006\\_TX\\_3\\_validation & 0 & 0 & 0 & 0 & 0 & 0 & 0 & 0 & 0 & ⋯ & 0 & 0 & 2 & 1 & 0 & 0 & 1 & 1 & 1 & 0\\\\\n",
       "\\end{tabular}\n"
      ],
      "text/markdown": [
       "\n",
       "A data.frame: 6 × 1914\n",
       "\n",
       "| <!--/--> | id &lt;chr&gt; | d_1 &lt;int&gt; | d_2 &lt;int&gt; | d_3 &lt;int&gt; | d_4 &lt;int&gt; | d_5 &lt;int&gt; | d_6 &lt;int&gt; | d_7 &lt;int&gt; | d_8 &lt;int&gt; | d_9 &lt;int&gt; | ⋯ ⋯ | d_1904 &lt;int&gt; | d_1905 &lt;int&gt; | d_1906 &lt;int&gt; | d_1907 &lt;int&gt; | d_1908 &lt;int&gt; | d_1909 &lt;int&gt; | d_1910 &lt;int&gt; | d_1911 &lt;int&gt; | d_1912 &lt;int&gt; | d_1913 &lt;int&gt; |\n",
       "|---|---|---|---|---|---|---|---|---|---|---|---|---|---|---|---|---|---|---|---|---|---|\n",
       "| 1 | FOODS_3_001_TX_3_validation | 0 | 2 | 1 | 3 | 0 | 0 | 1 | 0 | 2 | ⋯ | 0 | 0 | 0 | 0 | 2 | 0 | 0 | 5 | 2 | 0 |\n",
       "| 2 | FOODS_3_002_TX_3_validation | 0 | 0 | 0 | 0 | 0 | 0 | 0 | 0 | 0 | ⋯ | 0 | 0 | 0 | 0 | 0 | 0 | 0 | 0 | 0 | 0 |\n",
       "| 3 | FOODS_3_003_TX_3_validation | 0 | 0 | 0 | 0 | 0 | 0 | 0 | 0 | 0 | ⋯ | 1 | 1 | 0 | 0 | 1 | 0 | 0 | 1 | 0 | 0 |\n",
       "| 4 | FOODS_3_004_TX_3_validation | 0 | 0 | 0 | 0 | 0 | 0 | 0 | 0 | 0 | ⋯ | 0 | 0 | 2 | 0 | 0 | 0 | 0 | 0 | 0 | 0 |\n",
       "| 5 | FOODS_3_005_TX_3_validation | 0 | 1 | 1 | 0 | 0 | 1 | 2 | 0 | 0 | ⋯ | 0 | 4 | 2 | 1 | 1 | 0 | 1 | 0 | 4 | 0 |\n",
       "| 6 | FOODS_3_006_TX_3_validation | 0 | 0 | 0 | 0 | 0 | 0 | 0 | 0 | 0 | ⋯ | 0 | 0 | 2 | 1 | 0 | 0 | 1 | 1 | 1 | 0 |\n",
       "\n"
      ],
      "text/plain": [
       "  id                          d_1 d_2 d_3 d_4 d_5 d_6 d_7 d_8 d_9 ⋯ d_1904\n",
       "1 FOODS_3_001_TX_3_validation 0   2   1   3   0   0   1   0   2   ⋯ 0     \n",
       "2 FOODS_3_002_TX_3_validation 0   0   0   0   0   0   0   0   0   ⋯ 0     \n",
       "3 FOODS_3_003_TX_3_validation 0   0   0   0   0   0   0   0   0   ⋯ 1     \n",
       "4 FOODS_3_004_TX_3_validation 0   0   0   0   0   0   0   0   0   ⋯ 0     \n",
       "5 FOODS_3_005_TX_3_validation 0   1   1   0   0   1   2   0   0   ⋯ 0     \n",
       "6 FOODS_3_006_TX_3_validation 0   0   0   0   0   0   0   0   0   ⋯ 0     \n",
       "  d_1905 d_1906 d_1907 d_1908 d_1909 d_1910 d_1911 d_1912 d_1913\n",
       "1 0      0      0      2      0      0      5      2      0     \n",
       "2 0      0      0      0      0      0      0      0      0     \n",
       "3 1      0      0      1      0      0      1      0      0     \n",
       "4 0      2      0      0      0      0      0      0      0     \n",
       "5 4      2      1      1      0      1      0      4      0     \n",
       "6 0      2      1      0      0      1      1      1      0     "
      ]
     },
     "metadata": {},
     "output_type": "display_data"
    },
    {
     "data": {
      "text/html": [
       "<table class=\"dataframe\">\n",
       "<caption>A data.frame: 6 × 1914</caption>\n",
       "<thead>\n",
       "\t<tr><th></th><th scope=col>id</th><th scope=col>d_1</th><th scope=col>d_2</th><th scope=col>d_3</th><th scope=col>d_4</th><th scope=col>d_5</th><th scope=col>d_6</th><th scope=col>d_7</th><th scope=col>d_8</th><th scope=col>d_9</th><th scope=col>⋯</th><th scope=col>d_1904</th><th scope=col>d_1905</th><th scope=col>d_1906</th><th scope=col>d_1907</th><th scope=col>d_1908</th><th scope=col>d_1909</th><th scope=col>d_1910</th><th scope=col>d_1911</th><th scope=col>d_1912</th><th scope=col>d_1913</th></tr>\n",
       "\t<tr><th></th><th scope=col>&lt;chr&gt;</th><th scope=col>&lt;int&gt;</th><th scope=col>&lt;int&gt;</th><th scope=col>&lt;int&gt;</th><th scope=col>&lt;int&gt;</th><th scope=col>&lt;int&gt;</th><th scope=col>&lt;int&gt;</th><th scope=col>&lt;int&gt;</th><th scope=col>&lt;int&gt;</th><th scope=col>&lt;int&gt;</th><th scope=col>⋯</th><th scope=col>&lt;int&gt;</th><th scope=col>&lt;int&gt;</th><th scope=col>&lt;int&gt;</th><th scope=col>&lt;int&gt;</th><th scope=col>&lt;int&gt;</th><th scope=col>&lt;int&gt;</th><th scope=col>&lt;int&gt;</th><th scope=col>&lt;int&gt;</th><th scope=col>&lt;int&gt;</th><th scope=col>&lt;int&gt;</th></tr>\n",
       "</thead>\n",
       "<tbody>\n",
       "\t<tr><th scope=row>818</th><td>FOODS_3_822_TX_3_validation</td><td>7</td><td>5</td><td>5</td><td>3</td><td>0</td><td>3</td><td>0</td><td>1</td><td>7</td><td>⋯</td><td>1</td><td>3</td><td>2</td><td>1</td><td>2</td><td>0</td><td>1</td><td>0</td><td>1</td><td>0</td></tr>\n",
       "\t<tr><th scope=row>819</th><td>FOODS_3_823_TX_3_validation</td><td>0</td><td>0</td><td>0</td><td>0</td><td>0</td><td>0</td><td>0</td><td>0</td><td>0</td><td>⋯</td><td>1</td><td>1</td><td>0</td><td>1</td><td>0</td><td>0</td><td>0</td><td>2</td><td>0</td><td>2</td></tr>\n",
       "\t<tr><th scope=row>820</th><td>FOODS_3_824_TX_3_validation</td><td>0</td><td>1</td><td>0</td><td>1</td><td>0</td><td>2</td><td>0</td><td>1</td><td>1</td><td>⋯</td><td>0</td><td>0</td><td>0</td><td>0</td><td>0</td><td>0</td><td>0</td><td>0</td><td>0</td><td>0</td></tr>\n",
       "\t<tr><th scope=row>821</th><td>FOODS_3_825_TX_3_validation</td><td>0</td><td>0</td><td>0</td><td>2</td><td>1</td><td>1</td><td>0</td><td>0</td><td>1</td><td>⋯</td><td>1</td><td>1</td><td>1</td><td>3</td><td>1</td><td>0</td><td>0</td><td>4</td><td>2</td><td>0</td></tr>\n",
       "\t<tr><th scope=row>822</th><td>FOODS_3_826_TX_3_validation</td><td>0</td><td>0</td><td>0</td><td>0</td><td>0</td><td>0</td><td>0</td><td>0</td><td>0</td><td>⋯</td><td>0</td><td>2</td><td>1</td><td>1</td><td>5</td><td>3</td><td>1</td><td>2</td><td>1</td><td>2</td></tr>\n",
       "\t<tr><th scope=row>823</th><td>FOODS_3_827_TX_3_validation</td><td>0</td><td>0</td><td>0</td><td>0</td><td>0</td><td>0</td><td>0</td><td>0</td><td>0</td><td>⋯</td><td>0</td><td>0</td><td>0</td><td>0</td><td>1</td><td>0</td><td>1</td><td>0</td><td>0</td><td>3</td></tr>\n",
       "</tbody>\n",
       "</table>\n"
      ],
      "text/latex": [
       "A data.frame: 6 × 1914\n",
       "\\begin{tabular}{r|lllllllllllllllllllll}\n",
       "  & id & d\\_1 & d\\_2 & d\\_3 & d\\_4 & d\\_5 & d\\_6 & d\\_7 & d\\_8 & d\\_9 & ⋯ & d\\_1904 & d\\_1905 & d\\_1906 & d\\_1907 & d\\_1908 & d\\_1909 & d\\_1910 & d\\_1911 & d\\_1912 & d\\_1913\\\\\n",
       "  & <chr> & <int> & <int> & <int> & <int> & <int> & <int> & <int> & <int> & <int> & ⋯ & <int> & <int> & <int> & <int> & <int> & <int> & <int> & <int> & <int> & <int>\\\\\n",
       "\\hline\n",
       "\t818 & FOODS\\_3\\_822\\_TX\\_3\\_validation & 7 & 5 & 5 & 3 & 0 & 3 & 0 & 1 & 7 & ⋯ & 1 & 3 & 2 & 1 & 2 & 0 & 1 & 0 & 1 & 0\\\\\n",
       "\t819 & FOODS\\_3\\_823\\_TX\\_3\\_validation & 0 & 0 & 0 & 0 & 0 & 0 & 0 & 0 & 0 & ⋯ & 1 & 1 & 0 & 1 & 0 & 0 & 0 & 2 & 0 & 2\\\\\n",
       "\t820 & FOODS\\_3\\_824\\_TX\\_3\\_validation & 0 & 1 & 0 & 1 & 0 & 2 & 0 & 1 & 1 & ⋯ & 0 & 0 & 0 & 0 & 0 & 0 & 0 & 0 & 0 & 0\\\\\n",
       "\t821 & FOODS\\_3\\_825\\_TX\\_3\\_validation & 0 & 0 & 0 & 2 & 1 & 1 & 0 & 0 & 1 & ⋯ & 1 & 1 & 1 & 3 & 1 & 0 & 0 & 4 & 2 & 0\\\\\n",
       "\t822 & FOODS\\_3\\_826\\_TX\\_3\\_validation & 0 & 0 & 0 & 0 & 0 & 0 & 0 & 0 & 0 & ⋯ & 0 & 2 & 1 & 1 & 5 & 3 & 1 & 2 & 1 & 2\\\\\n",
       "\t823 & FOODS\\_3\\_827\\_TX\\_3\\_validation & 0 & 0 & 0 & 0 & 0 & 0 & 0 & 0 & 0 & ⋯ & 0 & 0 & 0 & 0 & 1 & 0 & 1 & 0 & 0 & 3\\\\\n",
       "\\end{tabular}\n"
      ],
      "text/markdown": [
       "\n",
       "A data.frame: 6 × 1914\n",
       "\n",
       "| <!--/--> | id &lt;chr&gt; | d_1 &lt;int&gt; | d_2 &lt;int&gt; | d_3 &lt;int&gt; | d_4 &lt;int&gt; | d_5 &lt;int&gt; | d_6 &lt;int&gt; | d_7 &lt;int&gt; | d_8 &lt;int&gt; | d_9 &lt;int&gt; | ⋯ ⋯ | d_1904 &lt;int&gt; | d_1905 &lt;int&gt; | d_1906 &lt;int&gt; | d_1907 &lt;int&gt; | d_1908 &lt;int&gt; | d_1909 &lt;int&gt; | d_1910 &lt;int&gt; | d_1911 &lt;int&gt; | d_1912 &lt;int&gt; | d_1913 &lt;int&gt; |\n",
       "|---|---|---|---|---|---|---|---|---|---|---|---|---|---|---|---|---|---|---|---|---|---|\n",
       "| 818 | FOODS_3_822_TX_3_validation | 7 | 5 | 5 | 3 | 0 | 3 | 0 | 1 | 7 | ⋯ | 1 | 3 | 2 | 1 | 2 | 0 | 1 | 0 | 1 | 0 |\n",
       "| 819 | FOODS_3_823_TX_3_validation | 0 | 0 | 0 | 0 | 0 | 0 | 0 | 0 | 0 | ⋯ | 1 | 1 | 0 | 1 | 0 | 0 | 0 | 2 | 0 | 2 |\n",
       "| 820 | FOODS_3_824_TX_3_validation | 0 | 1 | 0 | 1 | 0 | 2 | 0 | 1 | 1 | ⋯ | 0 | 0 | 0 | 0 | 0 | 0 | 0 | 0 | 0 | 0 |\n",
       "| 821 | FOODS_3_825_TX_3_validation | 0 | 0 | 0 | 2 | 1 | 1 | 0 | 0 | 1 | ⋯ | 1 | 1 | 1 | 3 | 1 | 0 | 0 | 4 | 2 | 0 |\n",
       "| 822 | FOODS_3_826_TX_3_validation | 0 | 0 | 0 | 0 | 0 | 0 | 0 | 0 | 0 | ⋯ | 0 | 2 | 1 | 1 | 5 | 3 | 1 | 2 | 1 | 2 |\n",
       "| 823 | FOODS_3_827_TX_3_validation | 0 | 0 | 0 | 0 | 0 | 0 | 0 | 0 | 0 | ⋯ | 0 | 0 | 0 | 0 | 1 | 0 | 1 | 0 | 0 | 3 |\n",
       "\n"
      ],
      "text/plain": [
       "    id                          d_1 d_2 d_3 d_4 d_5 d_6 d_7 d_8 d_9 ⋯ d_1904\n",
       "818 FOODS_3_822_TX_3_validation 7   5   5   3   0   3   0   1   7   ⋯ 1     \n",
       "819 FOODS_3_823_TX_3_validation 0   0   0   0   0   0   0   0   0   ⋯ 1     \n",
       "820 FOODS_3_824_TX_3_validation 0   1   0   1   0   2   0   1   1   ⋯ 0     \n",
       "821 FOODS_3_825_TX_3_validation 0   0   0   2   1   1   0   0   1   ⋯ 1     \n",
       "822 FOODS_3_826_TX_3_validation 0   0   0   0   0   0   0   0   0   ⋯ 0     \n",
       "823 FOODS_3_827_TX_3_validation 0   0   0   0   0   0   0   0   0   ⋯ 0     \n",
       "    d_1905 d_1906 d_1907 d_1908 d_1909 d_1910 d_1911 d_1912 d_1913\n",
       "818 3      2      1      2      0      1      0      1      0     \n",
       "819 1      0      1      0      0      0      2      0      2     \n",
       "820 0      0      0      0      0      0      0      0      0     \n",
       "821 1      1      3      1      0      0      4      2      0     \n",
       "822 2      1      1      5      3      1      2      1      2     \n",
       "823 0      0      0      1      0      1      0      0      3     "
      ]
     },
     "metadata": {},
     "output_type": "display_data"
    }
   ],
   "source": [
    "sales_train_validation %>% head()\n",
    "sales_train_validation %>% tail()"
   ]
  },
  {
   "cell_type": "markdown",
   "metadata": {},
   "source": [
    "### Daily average sales"
   ]
  },
  {
   "cell_type": "code",
   "execution_count": 4,
   "metadata": {
    "vscode": {
     "languageId": "r"
    }
   },
   "outputs": [
    {
     "name": "stderr",
     "output_type": "stream",
     "text": [
      "Warning message:\n",
      "\"\u001b[1m\u001b[22mThere was 1 warning in `summarise()`.\n",
      "\u001b[1m\u001b[22m\u001b[36mℹ\u001b[39m In argument: `across(everything(), sum, na.rm = TRUE)`.\n",
      "Caused by warning:\n",
      "\u001b[1m\u001b[22m\u001b[33m!\u001b[39m The `...` argument of `across()` is deprecated as of dplyr 1.1.0.\n",
      "Supply arguments directly to `.fns` through an anonymous function instead.\n",
      "\n",
      "  # Previously\n",
      "  across(a:b, mean, na.rm = TRUE)\n",
      "\n",
      "  # Now\n",
      "  across(a:b, \\(x) mean(x, na.rm = TRUE))\"\n"
     ]
    },
    {
     "data": {
      "text/html": [
       "<table class=\"dataframe\">\n",
       "<caption>A data.frame: 1 × 1913</caption>\n",
       "<thead>\n",
       "\t<tr><th scope=col>d_1</th><th scope=col>d_2</th><th scope=col>d_3</th><th scope=col>d_4</th><th scope=col>d_5</th><th scope=col>d_6</th><th scope=col>d_7</th><th scope=col>d_8</th><th scope=col>d_9</th><th scope=col>d_10</th><th scope=col>⋯</th><th scope=col>d_1904</th><th scope=col>d_1905</th><th scope=col>d_1906</th><th scope=col>d_1907</th><th scope=col>d_1908</th><th scope=col>d_1909</th><th scope=col>d_1910</th><th scope=col>d_1911</th><th scope=col>d_1912</th><th scope=col>d_1913</th></tr>\n",
       "\t<tr><th scope=col>&lt;int&gt;</th><th scope=col>&lt;int&gt;</th><th scope=col>&lt;int&gt;</th><th scope=col>&lt;int&gt;</th><th scope=col>&lt;int&gt;</th><th scope=col>&lt;int&gt;</th><th scope=col>&lt;int&gt;</th><th scope=col>&lt;int&gt;</th><th scope=col>&lt;int&gt;</th><th scope=col>&lt;int&gt;</th><th scope=col>⋯</th><th scope=col>&lt;int&gt;</th><th scope=col>&lt;int&gt;</th><th scope=col>&lt;int&gt;</th><th scope=col>&lt;int&gt;</th><th scope=col>&lt;int&gt;</th><th scope=col>&lt;int&gt;</th><th scope=col>&lt;int&gt;</th><th scope=col>&lt;int&gt;</th><th scope=col>&lt;int&gt;</th><th scope=col>&lt;int&gt;</th></tr>\n",
       "</thead>\n",
       "<tbody>\n",
       "\t<tr><td>1686</td><td>1661</td><td>1189</td><td>1137</td><td>954</td><td>1598</td><td>1107</td><td>1680</td><td>1660</td><td>1263</td><td>⋯</td><td>1633</td><td>1930</td><td>2082</td><td>1524</td><td>1760</td><td>1526</td><td>1423</td><td>1664</td><td>1974</td><td>1777</td></tr>\n",
       "</tbody>\n",
       "</table>\n"
      ],
      "text/latex": [
       "A data.frame: 1 × 1913\n",
       "\\begin{tabular}{lllllllllllllllllllll}\n",
       " d\\_1 & d\\_2 & d\\_3 & d\\_4 & d\\_5 & d\\_6 & d\\_7 & d\\_8 & d\\_9 & d\\_10 & ⋯ & d\\_1904 & d\\_1905 & d\\_1906 & d\\_1907 & d\\_1908 & d\\_1909 & d\\_1910 & d\\_1911 & d\\_1912 & d\\_1913\\\\\n",
       " <int> & <int> & <int> & <int> & <int> & <int> & <int> & <int> & <int> & <int> & ⋯ & <int> & <int> & <int> & <int> & <int> & <int> & <int> & <int> & <int> & <int>\\\\\n",
       "\\hline\n",
       "\t 1686 & 1661 & 1189 & 1137 & 954 & 1598 & 1107 & 1680 & 1660 & 1263 & ⋯ & 1633 & 1930 & 2082 & 1524 & 1760 & 1526 & 1423 & 1664 & 1974 & 1777\\\\\n",
       "\\end{tabular}\n"
      ],
      "text/markdown": [
       "\n",
       "A data.frame: 1 × 1913\n",
       "\n",
       "| d_1 &lt;int&gt; | d_2 &lt;int&gt; | d_3 &lt;int&gt; | d_4 &lt;int&gt; | d_5 &lt;int&gt; | d_6 &lt;int&gt; | d_7 &lt;int&gt; | d_8 &lt;int&gt; | d_9 &lt;int&gt; | d_10 &lt;int&gt; | ⋯ ⋯ | d_1904 &lt;int&gt; | d_1905 &lt;int&gt; | d_1906 &lt;int&gt; | d_1907 &lt;int&gt; | d_1908 &lt;int&gt; | d_1909 &lt;int&gt; | d_1910 &lt;int&gt; | d_1911 &lt;int&gt; | d_1912 &lt;int&gt; | d_1913 &lt;int&gt; |\n",
       "|---|---|---|---|---|---|---|---|---|---|---|---|---|---|---|---|---|---|---|---|---|\n",
       "| 1686 | 1661 | 1189 | 1137 | 954 | 1598 | 1107 | 1680 | 1660 | 1263 | ⋯ | 1633 | 1930 | 2082 | 1524 | 1760 | 1526 | 1423 | 1664 | 1974 | 1777 |\n",
       "\n"
      ],
      "text/plain": [
       "  d_1  d_2  d_3  d_4  d_5 d_6  d_7  d_8  d_9  d_10 ⋯ d_1904 d_1905 d_1906\n",
       "1 1686 1661 1189 1137 954 1598 1107 1680 1660 1263 ⋯ 1633   1930   2082  \n",
       "  d_1907 d_1908 d_1909 d_1910 d_1911 d_1912 d_1913\n",
       "1 1524   1760   1526   1423   1664   1974   1777  "
      ]
     },
     "metadata": {},
     "output_type": "display_data"
    }
   ],
   "source": [
    "overall_avg_sales <- sales_train_validation %>%\n",
    "  select(starts_with(\"d\")) %>% \n",
    "  summarise(across(everything(), sum, na.rm = TRUE))  # Calculate column-wise mean\n",
    "\n",
    "overall_avg_sales"
   ]
  },
  {
   "cell_type": "code",
   "execution_count": 5,
   "metadata": {
    "vscode": {
     "languageId": "r"
    }
   },
   "outputs": [],
   "source": [
    "# Convert each day column into one row by pivoting\n",
    "overall_avg_sales <- overall_avg_sales %>%\n",
    "    pivot_longer(\n",
    "    cols = starts_with(\"d\"),            \n",
    "    names_to = \"day_code\",    \n",
    "    values_to = \"avg_sales\"  \n",
    "  )\n",
    "\n",
    "overall_avg_sales <- overall_avg_sales %>%\n",
    "  mutate(\n",
    "    Date = as.Date(\"2011-01-29\") + as.numeric(sub(\"d_\", \"\", day_code)) - 1\n",
    "  )"
   ]
  },
  {
   "cell_type": "code",
   "execution_count": 6,
   "metadata": {
    "vscode": {
     "languageId": "r"
    }
   },
   "outputs": [
    {
     "data": {
      "text/html": [
       "<table class=\"dataframe\">\n",
       "<caption>A tibble: 1913 × 3</caption>\n",
       "<thead>\n",
       "\t<tr><th scope=col>day_code</th><th scope=col>avg_sales</th><th scope=col>Date</th></tr>\n",
       "\t<tr><th scope=col>&lt;chr&gt;</th><th scope=col>&lt;int&gt;</th><th scope=col>&lt;date&gt;</th></tr>\n",
       "</thead>\n",
       "<tbody>\n",
       "\t<tr><td>d_1 </td><td>1686</td><td>2011-01-29</td></tr>\n",
       "\t<tr><td>d_2 </td><td>1661</td><td>2011-01-30</td></tr>\n",
       "\t<tr><td>d_3 </td><td>1189</td><td>2011-01-31</td></tr>\n",
       "\t<tr><td>d_4 </td><td>1137</td><td>2011-02-01</td></tr>\n",
       "\t<tr><td>d_5 </td><td> 954</td><td>2011-02-02</td></tr>\n",
       "\t<tr><td>d_6 </td><td>1598</td><td>2011-02-03</td></tr>\n",
       "\t<tr><td>d_7 </td><td>1107</td><td>2011-02-04</td></tr>\n",
       "\t<tr><td>d_8 </td><td>1680</td><td>2011-02-05</td></tr>\n",
       "\t<tr><td>d_9 </td><td>1660</td><td>2011-02-06</td></tr>\n",
       "\t<tr><td>d_10</td><td>1263</td><td>2011-02-07</td></tr>\n",
       "\t<tr><td>d_11</td><td>1042</td><td>2011-02-08</td></tr>\n",
       "\t<tr><td>d_12</td><td>1011</td><td>2011-02-09</td></tr>\n",
       "\t<tr><td>d_13</td><td> 860</td><td>2011-02-10</td></tr>\n",
       "\t<tr><td>d_14</td><td>1063</td><td>2011-02-11</td></tr>\n",
       "\t<tr><td>d_15</td><td>1813</td><td>2011-02-12</td></tr>\n",
       "\t<tr><td>d_16</td><td>1964</td><td>2011-02-13</td></tr>\n",
       "\t<tr><td>d_17</td><td>1204</td><td>2011-02-14</td></tr>\n",
       "\t<tr><td>d_18</td><td>1237</td><td>2011-02-15</td></tr>\n",
       "\t<tr><td>d_19</td><td>1106</td><td>2011-02-16</td></tr>\n",
       "\t<tr><td>d_20</td><td>1184</td><td>2011-02-17</td></tr>\n",
       "\t<tr><td>d_21</td><td>1184</td><td>2011-02-18</td></tr>\n",
       "\t<tr><td>d_22</td><td>1541</td><td>2011-02-19</td></tr>\n",
       "\t<tr><td>d_23</td><td>1676</td><td>2011-02-20</td></tr>\n",
       "\t<tr><td>d_24</td><td>1216</td><td>2011-02-21</td></tr>\n",
       "\t<tr><td>d_25</td><td>1059</td><td>2011-02-22</td></tr>\n",
       "\t<tr><td>d_26</td><td> 958</td><td>2011-02-23</td></tr>\n",
       "\t<tr><td>d_27</td><td>1013</td><td>2011-02-24</td></tr>\n",
       "\t<tr><td>d_28</td><td>1036</td><td>2011-02-25</td></tr>\n",
       "\t<tr><td>d_29</td><td>1404</td><td>2011-02-26</td></tr>\n",
       "\t<tr><td>d_30</td><td>1622</td><td>2011-02-27</td></tr>\n",
       "\t<tr><td>⋮</td><td>⋮</td><td>⋮</td></tr>\n",
       "\t<tr><td>d_1884</td><td>2138</td><td>2016-03-26</td></tr>\n",
       "\t<tr><td>d_1885</td><td>1973</td><td>2016-03-27</td></tr>\n",
       "\t<tr><td>d_1886</td><td>1664</td><td>2016-03-28</td></tr>\n",
       "\t<tr><td>d_1887</td><td>1208</td><td>2016-03-29</td></tr>\n",
       "\t<tr><td>d_1888</td><td>1266</td><td>2016-03-30</td></tr>\n",
       "\t<tr><td>d_1889</td><td>1383</td><td>2016-03-31</td></tr>\n",
       "\t<tr><td>d_1890</td><td>1686</td><td>2016-04-01</td></tr>\n",
       "\t<tr><td>d_1891</td><td>1764</td><td>2016-04-02</td></tr>\n",
       "\t<tr><td>d_1892</td><td>2092</td><td>2016-04-03</td></tr>\n",
       "\t<tr><td>d_1893</td><td>1548</td><td>2016-04-04</td></tr>\n",
       "\t<tr><td>d_1894</td><td>1557</td><td>2016-04-05</td></tr>\n",
       "\t<tr><td>d_1895</td><td>1634</td><td>2016-04-06</td></tr>\n",
       "\t<tr><td>d_1896</td><td>1618</td><td>2016-04-07</td></tr>\n",
       "\t<tr><td>d_1897</td><td>1645</td><td>2016-04-08</td></tr>\n",
       "\t<tr><td>d_1898</td><td>2019</td><td>2016-04-09</td></tr>\n",
       "\t<tr><td>d_1899</td><td>2112</td><td>2016-04-10</td></tr>\n",
       "\t<tr><td>d_1900</td><td>1824</td><td>2016-04-11</td></tr>\n",
       "\t<tr><td>d_1901</td><td>1742</td><td>2016-04-12</td></tr>\n",
       "\t<tr><td>d_1902</td><td>1533</td><td>2016-04-13</td></tr>\n",
       "\t<tr><td>d_1903</td><td>1579</td><td>2016-04-14</td></tr>\n",
       "\t<tr><td>d_1904</td><td>1633</td><td>2016-04-15</td></tr>\n",
       "\t<tr><td>d_1905</td><td>1930</td><td>2016-04-16</td></tr>\n",
       "\t<tr><td>d_1906</td><td>2082</td><td>2016-04-17</td></tr>\n",
       "\t<tr><td>d_1907</td><td>1524</td><td>2016-04-18</td></tr>\n",
       "\t<tr><td>d_1908</td><td>1760</td><td>2016-04-19</td></tr>\n",
       "\t<tr><td>d_1909</td><td>1526</td><td>2016-04-20</td></tr>\n",
       "\t<tr><td>d_1910</td><td>1423</td><td>2016-04-21</td></tr>\n",
       "\t<tr><td>d_1911</td><td>1664</td><td>2016-04-22</td></tr>\n",
       "\t<tr><td>d_1912</td><td>1974</td><td>2016-04-23</td></tr>\n",
       "\t<tr><td>d_1913</td><td>1777</td><td>2016-04-24</td></tr>\n",
       "</tbody>\n",
       "</table>\n"
      ],
      "text/latex": [
       "A tibble: 1913 × 3\n",
       "\\begin{tabular}{lll}\n",
       " day\\_code & avg\\_sales & Date\\\\\n",
       " <chr> & <int> & <date>\\\\\n",
       "\\hline\n",
       "\t d\\_1  & 1686 & 2011-01-29\\\\\n",
       "\t d\\_2  & 1661 & 2011-01-30\\\\\n",
       "\t d\\_3  & 1189 & 2011-01-31\\\\\n",
       "\t d\\_4  & 1137 & 2011-02-01\\\\\n",
       "\t d\\_5  &  954 & 2011-02-02\\\\\n",
       "\t d\\_6  & 1598 & 2011-02-03\\\\\n",
       "\t d\\_7  & 1107 & 2011-02-04\\\\\n",
       "\t d\\_8  & 1680 & 2011-02-05\\\\\n",
       "\t d\\_9  & 1660 & 2011-02-06\\\\\n",
       "\t d\\_10 & 1263 & 2011-02-07\\\\\n",
       "\t d\\_11 & 1042 & 2011-02-08\\\\\n",
       "\t d\\_12 & 1011 & 2011-02-09\\\\\n",
       "\t d\\_13 &  860 & 2011-02-10\\\\\n",
       "\t d\\_14 & 1063 & 2011-02-11\\\\\n",
       "\t d\\_15 & 1813 & 2011-02-12\\\\\n",
       "\t d\\_16 & 1964 & 2011-02-13\\\\\n",
       "\t d\\_17 & 1204 & 2011-02-14\\\\\n",
       "\t d\\_18 & 1237 & 2011-02-15\\\\\n",
       "\t d\\_19 & 1106 & 2011-02-16\\\\\n",
       "\t d\\_20 & 1184 & 2011-02-17\\\\\n",
       "\t d\\_21 & 1184 & 2011-02-18\\\\\n",
       "\t d\\_22 & 1541 & 2011-02-19\\\\\n",
       "\t d\\_23 & 1676 & 2011-02-20\\\\\n",
       "\t d\\_24 & 1216 & 2011-02-21\\\\\n",
       "\t d\\_25 & 1059 & 2011-02-22\\\\\n",
       "\t d\\_26 &  958 & 2011-02-23\\\\\n",
       "\t d\\_27 & 1013 & 2011-02-24\\\\\n",
       "\t d\\_28 & 1036 & 2011-02-25\\\\\n",
       "\t d\\_29 & 1404 & 2011-02-26\\\\\n",
       "\t d\\_30 & 1622 & 2011-02-27\\\\\n",
       "\t ⋮ & ⋮ & ⋮\\\\\n",
       "\t d\\_1884 & 2138 & 2016-03-26\\\\\n",
       "\t d\\_1885 & 1973 & 2016-03-27\\\\\n",
       "\t d\\_1886 & 1664 & 2016-03-28\\\\\n",
       "\t d\\_1887 & 1208 & 2016-03-29\\\\\n",
       "\t d\\_1888 & 1266 & 2016-03-30\\\\\n",
       "\t d\\_1889 & 1383 & 2016-03-31\\\\\n",
       "\t d\\_1890 & 1686 & 2016-04-01\\\\\n",
       "\t d\\_1891 & 1764 & 2016-04-02\\\\\n",
       "\t d\\_1892 & 2092 & 2016-04-03\\\\\n",
       "\t d\\_1893 & 1548 & 2016-04-04\\\\\n",
       "\t d\\_1894 & 1557 & 2016-04-05\\\\\n",
       "\t d\\_1895 & 1634 & 2016-04-06\\\\\n",
       "\t d\\_1896 & 1618 & 2016-04-07\\\\\n",
       "\t d\\_1897 & 1645 & 2016-04-08\\\\\n",
       "\t d\\_1898 & 2019 & 2016-04-09\\\\\n",
       "\t d\\_1899 & 2112 & 2016-04-10\\\\\n",
       "\t d\\_1900 & 1824 & 2016-04-11\\\\\n",
       "\t d\\_1901 & 1742 & 2016-04-12\\\\\n",
       "\t d\\_1902 & 1533 & 2016-04-13\\\\\n",
       "\t d\\_1903 & 1579 & 2016-04-14\\\\\n",
       "\t d\\_1904 & 1633 & 2016-04-15\\\\\n",
       "\t d\\_1905 & 1930 & 2016-04-16\\\\\n",
       "\t d\\_1906 & 2082 & 2016-04-17\\\\\n",
       "\t d\\_1907 & 1524 & 2016-04-18\\\\\n",
       "\t d\\_1908 & 1760 & 2016-04-19\\\\\n",
       "\t d\\_1909 & 1526 & 2016-04-20\\\\\n",
       "\t d\\_1910 & 1423 & 2016-04-21\\\\\n",
       "\t d\\_1911 & 1664 & 2016-04-22\\\\\n",
       "\t d\\_1912 & 1974 & 2016-04-23\\\\\n",
       "\t d\\_1913 & 1777 & 2016-04-24\\\\\n",
       "\\end{tabular}\n"
      ],
      "text/markdown": [
       "\n",
       "A tibble: 1913 × 3\n",
       "\n",
       "| day_code &lt;chr&gt; | avg_sales &lt;int&gt; | Date &lt;date&gt; |\n",
       "|---|---|---|\n",
       "| d_1  | 1686 | 2011-01-29 |\n",
       "| d_2  | 1661 | 2011-01-30 |\n",
       "| d_3  | 1189 | 2011-01-31 |\n",
       "| d_4  | 1137 | 2011-02-01 |\n",
       "| d_5  |  954 | 2011-02-02 |\n",
       "| d_6  | 1598 | 2011-02-03 |\n",
       "| d_7  | 1107 | 2011-02-04 |\n",
       "| d_8  | 1680 | 2011-02-05 |\n",
       "| d_9  | 1660 | 2011-02-06 |\n",
       "| d_10 | 1263 | 2011-02-07 |\n",
       "| d_11 | 1042 | 2011-02-08 |\n",
       "| d_12 | 1011 | 2011-02-09 |\n",
       "| d_13 |  860 | 2011-02-10 |\n",
       "| d_14 | 1063 | 2011-02-11 |\n",
       "| d_15 | 1813 | 2011-02-12 |\n",
       "| d_16 | 1964 | 2011-02-13 |\n",
       "| d_17 | 1204 | 2011-02-14 |\n",
       "| d_18 | 1237 | 2011-02-15 |\n",
       "| d_19 | 1106 | 2011-02-16 |\n",
       "| d_20 | 1184 | 2011-02-17 |\n",
       "| d_21 | 1184 | 2011-02-18 |\n",
       "| d_22 | 1541 | 2011-02-19 |\n",
       "| d_23 | 1676 | 2011-02-20 |\n",
       "| d_24 | 1216 | 2011-02-21 |\n",
       "| d_25 | 1059 | 2011-02-22 |\n",
       "| d_26 |  958 | 2011-02-23 |\n",
       "| d_27 | 1013 | 2011-02-24 |\n",
       "| d_28 | 1036 | 2011-02-25 |\n",
       "| d_29 | 1404 | 2011-02-26 |\n",
       "| d_30 | 1622 | 2011-02-27 |\n",
       "| ⋮ | ⋮ | ⋮ |\n",
       "| d_1884 | 2138 | 2016-03-26 |\n",
       "| d_1885 | 1973 | 2016-03-27 |\n",
       "| d_1886 | 1664 | 2016-03-28 |\n",
       "| d_1887 | 1208 | 2016-03-29 |\n",
       "| d_1888 | 1266 | 2016-03-30 |\n",
       "| d_1889 | 1383 | 2016-03-31 |\n",
       "| d_1890 | 1686 | 2016-04-01 |\n",
       "| d_1891 | 1764 | 2016-04-02 |\n",
       "| d_1892 | 2092 | 2016-04-03 |\n",
       "| d_1893 | 1548 | 2016-04-04 |\n",
       "| d_1894 | 1557 | 2016-04-05 |\n",
       "| d_1895 | 1634 | 2016-04-06 |\n",
       "| d_1896 | 1618 | 2016-04-07 |\n",
       "| d_1897 | 1645 | 2016-04-08 |\n",
       "| d_1898 | 2019 | 2016-04-09 |\n",
       "| d_1899 | 2112 | 2016-04-10 |\n",
       "| d_1900 | 1824 | 2016-04-11 |\n",
       "| d_1901 | 1742 | 2016-04-12 |\n",
       "| d_1902 | 1533 | 2016-04-13 |\n",
       "| d_1903 | 1579 | 2016-04-14 |\n",
       "| d_1904 | 1633 | 2016-04-15 |\n",
       "| d_1905 | 1930 | 2016-04-16 |\n",
       "| d_1906 | 2082 | 2016-04-17 |\n",
       "| d_1907 | 1524 | 2016-04-18 |\n",
       "| d_1908 | 1760 | 2016-04-19 |\n",
       "| d_1909 | 1526 | 2016-04-20 |\n",
       "| d_1910 | 1423 | 2016-04-21 |\n",
       "| d_1911 | 1664 | 2016-04-22 |\n",
       "| d_1912 | 1974 | 2016-04-23 |\n",
       "| d_1913 | 1777 | 2016-04-24 |\n",
       "\n"
      ],
      "text/plain": [
       "     day_code avg_sales Date      \n",
       "1    d_1      1686      2011-01-29\n",
       "2    d_2      1661      2011-01-30\n",
       "3    d_3      1189      2011-01-31\n",
       "4    d_4      1137      2011-02-01\n",
       "5    d_5       954      2011-02-02\n",
       "6    d_6      1598      2011-02-03\n",
       "7    d_7      1107      2011-02-04\n",
       "8    d_8      1680      2011-02-05\n",
       "9    d_9      1660      2011-02-06\n",
       "10   d_10     1263      2011-02-07\n",
       "11   d_11     1042      2011-02-08\n",
       "12   d_12     1011      2011-02-09\n",
       "13   d_13      860      2011-02-10\n",
       "14   d_14     1063      2011-02-11\n",
       "15   d_15     1813      2011-02-12\n",
       "16   d_16     1964      2011-02-13\n",
       "17   d_17     1204      2011-02-14\n",
       "18   d_18     1237      2011-02-15\n",
       "19   d_19     1106      2011-02-16\n",
       "20   d_20     1184      2011-02-17\n",
       "21   d_21     1184      2011-02-18\n",
       "22   d_22     1541      2011-02-19\n",
       "23   d_23     1676      2011-02-20\n",
       "24   d_24     1216      2011-02-21\n",
       "25   d_25     1059      2011-02-22\n",
       "26   d_26      958      2011-02-23\n",
       "27   d_27     1013      2011-02-24\n",
       "28   d_28     1036      2011-02-25\n",
       "29   d_29     1404      2011-02-26\n",
       "30   d_30     1622      2011-02-27\n",
       "⋮    ⋮        ⋮         ⋮         \n",
       "1884 d_1884   2138      2016-03-26\n",
       "1885 d_1885   1973      2016-03-27\n",
       "1886 d_1886   1664      2016-03-28\n",
       "1887 d_1887   1208      2016-03-29\n",
       "1888 d_1888   1266      2016-03-30\n",
       "1889 d_1889   1383      2016-03-31\n",
       "1890 d_1890   1686      2016-04-01\n",
       "1891 d_1891   1764      2016-04-02\n",
       "1892 d_1892   2092      2016-04-03\n",
       "1893 d_1893   1548      2016-04-04\n",
       "1894 d_1894   1557      2016-04-05\n",
       "1895 d_1895   1634      2016-04-06\n",
       "1896 d_1896   1618      2016-04-07\n",
       "1897 d_1897   1645      2016-04-08\n",
       "1898 d_1898   2019      2016-04-09\n",
       "1899 d_1899   2112      2016-04-10\n",
       "1900 d_1900   1824      2016-04-11\n",
       "1901 d_1901   1742      2016-04-12\n",
       "1902 d_1902   1533      2016-04-13\n",
       "1903 d_1903   1579      2016-04-14\n",
       "1904 d_1904   1633      2016-04-15\n",
       "1905 d_1905   1930      2016-04-16\n",
       "1906 d_1906   2082      2016-04-17\n",
       "1907 d_1907   1524      2016-04-18\n",
       "1908 d_1908   1760      2016-04-19\n",
       "1909 d_1909   1526      2016-04-20\n",
       "1910 d_1910   1423      2016-04-21\n",
       "1911 d_1911   1664      2016-04-22\n",
       "1912 d_1912   1974      2016-04-23\n",
       "1913 d_1913   1777      2016-04-24"
      ]
     },
     "metadata": {},
     "output_type": "display_data"
    }
   ],
   "source": [
    "overall_avg_sales"
   ]
  },
  {
   "cell_type": "code",
   "execution_count": 7,
   "metadata": {
    "vscode": {
     "languageId": "r"
    }
   },
   "outputs": [
    {
     "data": {
      "image/png": "[encoded data removed]",
      "text/plain": [
       "plot without title"
      ]
     },
     "metadata": {
      "image/png": {
       "height": 420,
       "width": 420
      }
     },
     "output_type": "display_data"
    }
   ],
   "source": [
    "overall_avg_sales %>%\n",
    "    drop_na(Date) %>%\n",
    "    as_tsibble(index = Date)%>%\n",
    "    autoplot(avg_sales) + labs(title = \"Daily Total Sales\", x = \"Time\", y = \"Number of sales\") + theme(aspect.ratio = 0.7)"
   ]
  },
  {
   "cell_type": "code",
   "execution_count": 8,
   "metadata": {
    "vscode": {
     "languageId": "r"
    }
   },
   "outputs": [
    {
     "data": {
      "text/html": [
       "<table class=\"dataframe\">\n",
       "<caption>A tibble: 1913 × 3</caption>\n",
       "<thead>\n",
       "\t<tr><th scope=col>day_code</th><th scope=col>avg_sales</th><th scope=col>Date</th></tr>\n",
       "\t<tr><th scope=col>&lt;chr&gt;</th><th scope=col>&lt;int&gt;</th><th scope=col>&lt;date&gt;</th></tr>\n",
       "</thead>\n",
       "<tbody>\n",
       "\t<tr><td>d_1 </td><td>1686</td><td>2011-01-29</td></tr>\n",
       "\t<tr><td>d_2 </td><td>1661</td><td>2011-01-30</td></tr>\n",
       "\t<tr><td>d_3 </td><td>1189</td><td>2011-01-31</td></tr>\n",
       "\t<tr><td>d_4 </td><td>1137</td><td>2011-02-01</td></tr>\n",
       "\t<tr><td>d_5 </td><td> 954</td><td>2011-02-02</td></tr>\n",
       "\t<tr><td>d_6 </td><td>1598</td><td>2011-02-03</td></tr>\n",
       "\t<tr><td>d_7 </td><td>1107</td><td>2011-02-04</td></tr>\n",
       "\t<tr><td>d_8 </td><td>1680</td><td>2011-02-05</td></tr>\n",
       "\t<tr><td>d_9 </td><td>1660</td><td>2011-02-06</td></tr>\n",
       "\t<tr><td>d_10</td><td>1263</td><td>2011-02-07</td></tr>\n",
       "\t<tr><td>d_11</td><td>1042</td><td>2011-02-08</td></tr>\n",
       "\t<tr><td>d_12</td><td>1011</td><td>2011-02-09</td></tr>\n",
       "\t<tr><td>d_13</td><td> 860</td><td>2011-02-10</td></tr>\n",
       "\t<tr><td>d_14</td><td>1063</td><td>2011-02-11</td></tr>\n",
       "\t<tr><td>d_15</td><td>1813</td><td>2011-02-12</td></tr>\n",
       "\t<tr><td>d_16</td><td>1964</td><td>2011-02-13</td></tr>\n",
       "\t<tr><td>d_17</td><td>1204</td><td>2011-02-14</td></tr>\n",
       "\t<tr><td>d_18</td><td>1237</td><td>2011-02-15</td></tr>\n",
       "\t<tr><td>d_19</td><td>1106</td><td>2011-02-16</td></tr>\n",
       "\t<tr><td>d_20</td><td>1184</td><td>2011-02-17</td></tr>\n",
       "\t<tr><td>d_21</td><td>1184</td><td>2011-02-18</td></tr>\n",
       "\t<tr><td>d_22</td><td>1541</td><td>2011-02-19</td></tr>\n",
       "\t<tr><td>d_23</td><td>1676</td><td>2011-02-20</td></tr>\n",
       "\t<tr><td>d_24</td><td>1216</td><td>2011-02-21</td></tr>\n",
       "\t<tr><td>d_25</td><td>1059</td><td>2011-02-22</td></tr>\n",
       "\t<tr><td>d_26</td><td> 958</td><td>2011-02-23</td></tr>\n",
       "\t<tr><td>d_27</td><td>1013</td><td>2011-02-24</td></tr>\n",
       "\t<tr><td>d_28</td><td>1036</td><td>2011-02-25</td></tr>\n",
       "\t<tr><td>d_29</td><td>1404</td><td>2011-02-26</td></tr>\n",
       "\t<tr><td>d_30</td><td>1622</td><td>2011-02-27</td></tr>\n",
       "\t<tr><td>⋮</td><td>⋮</td><td>⋮</td></tr>\n",
       "\t<tr><td>d_1884</td><td>2138</td><td>2016-03-26</td></tr>\n",
       "\t<tr><td>d_1885</td><td>1973</td><td>2016-03-27</td></tr>\n",
       "\t<tr><td>d_1886</td><td>1664</td><td>2016-03-28</td></tr>\n",
       "\t<tr><td>d_1887</td><td>1208</td><td>2016-03-29</td></tr>\n",
       "\t<tr><td>d_1888</td><td>1266</td><td>2016-03-30</td></tr>\n",
       "\t<tr><td>d_1889</td><td>1383</td><td>2016-03-31</td></tr>\n",
       "\t<tr><td>d_1890</td><td>1686</td><td>2016-04-01</td></tr>\n",
       "\t<tr><td>d_1891</td><td>1764</td><td>2016-04-02</td></tr>\n",
       "\t<tr><td>d_1892</td><td>2092</td><td>2016-04-03</td></tr>\n",
       "\t<tr><td>d_1893</td><td>1548</td><td>2016-04-04</td></tr>\n",
       "\t<tr><td>d_1894</td><td>1557</td><td>2016-04-05</td></tr>\n",
       "\t<tr><td>d_1895</td><td>1634</td><td>2016-04-06</td></tr>\n",
       "\t<tr><td>d_1896</td><td>1618</td><td>2016-04-07</td></tr>\n",
       "\t<tr><td>d_1897</td><td>1645</td><td>2016-04-08</td></tr>\n",
       "\t<tr><td>d_1898</td><td>2019</td><td>2016-04-09</td></tr>\n",
       "\t<tr><td>d_1899</td><td>2112</td><td>2016-04-10</td></tr>\n",
       "\t<tr><td>d_1900</td><td>1824</td><td>2016-04-11</td></tr>\n",
       "\t<tr><td>d_1901</td><td>1742</td><td>2016-04-12</td></tr>\n",
       "\t<tr><td>d_1902</td><td>1533</td><td>2016-04-13</td></tr>\n",
       "\t<tr><td>d_1903</td><td>1579</td><td>2016-04-14</td></tr>\n",
       "\t<tr><td>d_1904</td><td>1633</td><td>2016-04-15</td></tr>\n",
       "\t<tr><td>d_1905</td><td>1930</td><td>2016-04-16</td></tr>\n",
       "\t<tr><td>d_1906</td><td>2082</td><td>2016-04-17</td></tr>\n",
       "\t<tr><td>d_1907</td><td>1524</td><td>2016-04-18</td></tr>\n",
       "\t<tr><td>d_1908</td><td>1760</td><td>2016-04-19</td></tr>\n",
       "\t<tr><td>d_1909</td><td>1526</td><td>2016-04-20</td></tr>\n",
       "\t<tr><td>d_1910</td><td>1423</td><td>2016-04-21</td></tr>\n",
       "\t<tr><td>d_1911</td><td>1664</td><td>2016-04-22</td></tr>\n",
       "\t<tr><td>d_1912</td><td>1974</td><td>2016-04-23</td></tr>\n",
       "\t<tr><td>d_1913</td><td>1777</td><td>2016-04-24</td></tr>\n",
       "</tbody>\n",
       "</table>\n"
      ],
      "text/latex": [
       "A tibble: 1913 × 3\n",
       "\\begin{tabular}{lll}\n",
       " day\\_code & avg\\_sales & Date\\\\\n",
       " <chr> & <int> & <date>\\\\\n",
       "\\hline\n",
       "\t d\\_1  & 1686 & 2011-01-29\\\\\n",
       "\t d\\_2  & 1661 & 2011-01-30\\\\\n",
       "\t d\\_3  & 1189 & 2011-01-31\\\\\n",
       "\t d\\_4  & 1137 & 2011-02-01\\\\\n",
       "\t d\\_5  &  954 & 2011-02-02\\\\\n",
       "\t d\\_6  & 1598 & 2011-02-03\\\\\n",
       "\t d\\_7  & 1107 & 2011-02-04\\\\\n",
       "\t d\\_8  & 1680 & 2011-02-05\\\\\n",
       "\t d\\_9  & 1660 & 2011-02-06\\\\\n",
       "\t d\\_10 & 1263 & 2011-02-07\\\\\n",
       "\t d\\_11 & 1042 & 2011-02-08\\\\\n",
       "\t d\\_12 & 1011 & 2011-02-09\\\\\n",
       "\t d\\_13 &  860 & 2011-02-10\\\\\n",
       "\t d\\_14 & 1063 & 2011-02-11\\\\\n",
       "\t d\\_15 & 1813 & 2011-02-12\\\\\n",
       "\t d\\_16 & 1964 & 2011-02-13\\\\\n",
       "\t d\\_17 & 1204 & 2011-02-14\\\\\n",
       "\t d\\_18 & 1237 & 2011-02-15\\\\\n",
       "\t d\\_19 & 1106 & 2011-02-16\\\\\n",
       "\t d\\_20 & 1184 & 2011-02-17\\\\\n",
       "\t d\\_21 & 1184 & 2011-02-18\\\\\n",
       "\t d\\_22 & 1541 & 2011-02-19\\\\\n",
       "\t d\\_23 & 1676 & 2011-02-20\\\\\n",
       "\t d\\_24 & 1216 & 2011-02-21\\\\\n",
       "\t d\\_25 & 1059 & 2011-02-22\\\\\n",
       "\t d\\_26 &  958 & 2011-02-23\\\\\n",
       "\t d\\_27 & 1013 & 2011-02-24\\\\\n",
       "\t d\\_28 & 1036 & 2011-02-25\\\\\n",
       "\t d\\_29 & 1404 & 2011-02-26\\\\\n",
       "\t d\\_30 & 1622 & 2011-02-27\\\\\n",
       "\t ⋮ & ⋮ & ⋮\\\\\n",
       "\t d\\_1884 & 2138 & 2016-03-26\\\\\n",
       "\t d\\_1885 & 1973 & 2016-03-27\\\\\n",
       "\t d\\_1886 & 1664 & 2016-03-28\\\\\n",
       "\t d\\_1887 & 1208 & 2016-03-29\\\\\n",
       "\t d\\_1888 & 1266 & 2016-03-30\\\\\n",
       "\t d\\_1889 & 1383 & 2016-03-31\\\\\n",
       "\t d\\_1890 & 1686 & 2016-04-01\\\\\n",
       "\t d\\_1891 & 1764 & 2016-04-02\\\\\n",
       "\t d\\_1892 & 2092 & 2016-04-03\\\\\n",
       "\t d\\_1893 & 1548 & 2016-04-04\\\\\n",
       "\t d\\_1894 & 1557 & 2016-04-05\\\\\n",
       "\t d\\_1895 & 1634 & 2016-04-06\\\\\n",
       "\t d\\_1896 & 1618 & 2016-04-07\\\\\n",
       "\t d\\_1897 & 1645 & 2016-04-08\\\\\n",
       "\t d\\_1898 & 2019 & 2016-04-09\\\\\n",
       "\t d\\_1899 & 2112 & 2016-04-10\\\\\n",
       "\t d\\_1900 & 1824 & 2016-04-11\\\\\n",
       "\t d\\_1901 & 1742 & 2016-04-12\\\\\n",
       "\t d\\_1902 & 1533 & 2016-04-13\\\\\n",
       "\t d\\_1903 & 1579 & 2016-04-14\\\\\n",
       "\t d\\_1904 & 1633 & 2016-04-15\\\\\n",
       "\t d\\_1905 & 1930 & 2016-04-16\\\\\n",
       "\t d\\_1906 & 2082 & 2016-04-17\\\\\n",
       "\t d\\_1907 & 1524 & 2016-04-18\\\\\n",
       "\t d\\_1908 & 1760 & 2016-04-19\\\\\n",
       "\t d\\_1909 & 1526 & 2016-04-20\\\\\n",
       "\t d\\_1910 & 1423 & 2016-04-21\\\\\n",
       "\t d\\_1911 & 1664 & 2016-04-22\\\\\n",
       "\t d\\_1912 & 1974 & 2016-04-23\\\\\n",
       "\t d\\_1913 & 1777 & 2016-04-24\\\\\n",
       "\\end{tabular}\n"
      ],
      "text/markdown": [
       "\n",
       "A tibble: 1913 × 3\n",
       "\n",
       "| day_code &lt;chr&gt; | avg_sales &lt;int&gt; | Date &lt;date&gt; |\n",
       "|---|---|---|\n",
       "| d_1  | 1686 | 2011-01-29 |\n",
       "| d_2  | 1661 | 2011-01-30 |\n",
       "| d_3  | 1189 | 2011-01-31 |\n",
       "| d_4  | 1137 | 2011-02-01 |\n",
       "| d_5  |  954 | 2011-02-02 |\n",
       "| d_6  | 1598 | 2011-02-03 |\n",
       "| d_7  | 1107 | 2011-02-04 |\n",
       "| d_8  | 1680 | 2011-02-05 |\n",
       "| d_9  | 1660 | 2011-02-06 |\n",
       "| d_10 | 1263 | 2011-02-07 |\n",
       "| d_11 | 1042 | 2011-02-08 |\n",
       "| d_12 | 1011 | 2011-02-09 |\n",
       "| d_13 |  860 | 2011-02-10 |\n",
       "| d_14 | 1063 | 2011-02-11 |\n",
       "| d_15 | 1813 | 2011-02-12 |\n",
       "| d_16 | 1964 | 2011-02-13 |\n",
       "| d_17 | 1204 | 2011-02-14 |\n",
       "| d_18 | 1237 | 2011-02-15 |\n",
       "| d_19 | 1106 | 2011-02-16 |\n",
       "| d_20 | 1184 | 2011-02-17 |\n",
       "| d_21 | 1184 | 2011-02-18 |\n",
       "| d_22 | 1541 | 2011-02-19 |\n",
       "| d_23 | 1676 | 2011-02-20 |\n",
       "| d_24 | 1216 | 2011-02-21 |\n",
       "| d_25 | 1059 | 2011-02-22 |\n",
       "| d_26 |  958 | 2011-02-23 |\n",
       "| d_27 | 1013 | 2011-02-24 |\n",
       "| d_28 | 1036 | 2011-02-25 |\n",
       "| d_29 | 1404 | 2011-02-26 |\n",
       "| d_30 | 1622 | 2011-02-27 |\n",
       "| ⋮ | ⋮ | ⋮ |\n",
       "| d_1884 | 2138 | 2016-03-26 |\n",
       "| d_1885 | 1973 | 2016-03-27 |\n",
       "| d_1886 | 1664 | 2016-03-28 |\n",
       "| d_1887 | 1208 | 2016-03-29 |\n",
       "| d_1888 | 1266 | 2016-03-30 |\n",
       "| d_1889 | 1383 | 2016-03-31 |\n",
       "| d_1890 | 1686 | 2016-04-01 |\n",
       "| d_1891 | 1764 | 2016-04-02 |\n",
       "| d_1892 | 2092 | 2016-04-03 |\n",
       "| d_1893 | 1548 | 2016-04-04 |\n",
       "| d_1894 | 1557 | 2016-04-05 |\n",
       "| d_1895 | 1634 | 2016-04-06 |\n",
       "| d_1896 | 1618 | 2016-04-07 |\n",
       "| d_1897 | 1645 | 2016-04-08 |\n",
       "| d_1898 | 2019 | 2016-04-09 |\n",
       "| d_1899 | 2112 | 2016-04-10 |\n",
       "| d_1900 | 1824 | 2016-04-11 |\n",
       "| d_1901 | 1742 | 2016-04-12 |\n",
       "| d_1902 | 1533 | 2016-04-13 |\n",
       "| d_1903 | 1579 | 2016-04-14 |\n",
       "| d_1904 | 1633 | 2016-04-15 |\n",
       "| d_1905 | 1930 | 2016-04-16 |\n",
       "| d_1906 | 2082 | 2016-04-17 |\n",
       "| d_1907 | 1524 | 2016-04-18 |\n",
       "| d_1908 | 1760 | 2016-04-19 |\n",
       "| d_1909 | 1526 | 2016-04-20 |\n",
       "| d_1910 | 1423 | 2016-04-21 |\n",
       "| d_1911 | 1664 | 2016-04-22 |\n",
       "| d_1912 | 1974 | 2016-04-23 |\n",
       "| d_1913 | 1777 | 2016-04-24 |\n",
       "\n"
      ],
      "text/plain": [
       "     day_code avg_sales Date      \n",
       "1    d_1      1686      2011-01-29\n",
       "2    d_2      1661      2011-01-30\n",
       "3    d_3      1189      2011-01-31\n",
       "4    d_4      1137      2011-02-01\n",
       "5    d_5       954      2011-02-02\n",
       "6    d_6      1598      2011-02-03\n",
       "7    d_7      1107      2011-02-04\n",
       "8    d_8      1680      2011-02-05\n",
       "9    d_9      1660      2011-02-06\n",
       "10   d_10     1263      2011-02-07\n",
       "11   d_11     1042      2011-02-08\n",
       "12   d_12     1011      2011-02-09\n",
       "13   d_13      860      2011-02-10\n",
       "14   d_14     1063      2011-02-11\n",
       "15   d_15     1813      2011-02-12\n",
       "16   d_16     1964      2011-02-13\n",
       "17   d_17     1204      2011-02-14\n",
       "18   d_18     1237      2011-02-15\n",
       "19   d_19     1106      2011-02-16\n",
       "20   d_20     1184      2011-02-17\n",
       "21   d_21     1184      2011-02-18\n",
       "22   d_22     1541      2011-02-19\n",
       "23   d_23     1676      2011-02-20\n",
       "24   d_24     1216      2011-02-21\n",
       "25   d_25     1059      2011-02-22\n",
       "26   d_26      958      2011-02-23\n",
       "27   d_27     1013      2011-02-24\n",
       "28   d_28     1036      2011-02-25\n",
       "29   d_29     1404      2011-02-26\n",
       "30   d_30     1622      2011-02-27\n",
       "⋮    ⋮        ⋮         ⋮         \n",
       "1884 d_1884   2138      2016-03-26\n",
       "1885 d_1885   1973      2016-03-27\n",
       "1886 d_1886   1664      2016-03-28\n",
       "1887 d_1887   1208      2016-03-29\n",
       "1888 d_1888   1266      2016-03-30\n",
       "1889 d_1889   1383      2016-03-31\n",
       "1890 d_1890   1686      2016-04-01\n",
       "1891 d_1891   1764      2016-04-02\n",
       "1892 d_1892   2092      2016-04-03\n",
       "1893 d_1893   1548      2016-04-04\n",
       "1894 d_1894   1557      2016-04-05\n",
       "1895 d_1895   1634      2016-04-06\n",
       "1896 d_1896   1618      2016-04-07\n",
       "1897 d_1897   1645      2016-04-08\n",
       "1898 d_1898   2019      2016-04-09\n",
       "1899 d_1899   2112      2016-04-10\n",
       "1900 d_1900   1824      2016-04-11\n",
       "1901 d_1901   1742      2016-04-12\n",
       "1902 d_1902   1533      2016-04-13\n",
       "1903 d_1903   1579      2016-04-14\n",
       "1904 d_1904   1633      2016-04-15\n",
       "1905 d_1905   1930      2016-04-16\n",
       "1906 d_1906   2082      2016-04-17\n",
       "1907 d_1907   1524      2016-04-18\n",
       "1908 d_1908   1760      2016-04-19\n",
       "1909 d_1909   1526      2016-04-20\n",
       "1910 d_1910   1423      2016-04-21\n",
       "1911 d_1911   1664      2016-04-22\n",
       "1912 d_1912   1974      2016-04-23\n",
       "1913 d_1913   1777      2016-04-24"
      ]
     },
     "metadata": {},
     "output_type": "display_data"
    }
   ],
   "source": [
    "overall_avg_sales"
   ]
  },
  {
   "cell_type": "code",
   "execution_count": 9,
   "metadata": {
    "vscode": {
     "languageId": "r"
    }
   },
   "outputs": [
    {
     "data": {
      "image/png": "[encoded data removed]",
      "text/plain": [
       "plot without title"
      ]
     },
     "metadata": {
      "image/png": {
       "height": 420,
       "width": 420
      }
     },
     "output_type": "display_data"
    }
   ],
   "source": [
    "overall_avg_sales %>%\n",
    "    as_tsibble(index = Date)%>%\n",
    "    model(STL(avg_sales ~ season(window = \"periodic\"))) %>%\n",
    "    components() %>%\n",
    "    autoplot() + labs(title = \"STL decomposition\") + theme(aspect.ratio = 0.15)"
   ]
  },
  {
   "cell_type": "code",
   "execution_count": 10,
   "metadata": {
    "vscode": {
     "languageId": "r"
    }
   },
   "outputs": [
    {
     "data": {
      "text/html": [
       "'English_United States.1252'"
      ],
      "text/latex": [
       "'English\\_United States.1252'"
      ],
      "text/markdown": [
       "'English_United States.1252'"
      ],
      "text/plain": [
       "[1] \"English_United States.1252\""
      ]
     },
     "metadata": {},
     "output_type": "display_data"
    }
   ],
   "source": [
    "Sys.setlocale(\"LC_TIME\", \"English\")"
   ]
  },
  {
   "cell_type": "markdown",
   "metadata": {},
   "source": [
    "### Monthly Sales"
   ]
  },
  {
   "cell_type": "code",
   "execution_count": 11,
   "metadata": {
    "vscode": {
     "languageId": "r"
    }
   },
   "outputs": [],
   "source": [
    "monthly_overall_avg_sales <- overall_avg_sales %>%\n",
    "    mutate(YearMonth = yearmonth(Date)) %>%\n",
    "    group_by(YearMonth) %>%  # Group by Year and Month\n",
    "    summarise(\n",
    "        Monthly_Sales = sum(avg_sales, na.rm = TRUE) # Sum up sales\n",
    "    ) %>%\n",
    "    as_tsibble(index = YearMonth) %>% # Convert to tsibble\n",
    "    slice(-1) # We delete first row to being unusually low due data starting the 29tg"
   ]
  },
  {
   "cell_type": "code",
   "execution_count": 12,
   "metadata": {
    "vscode": {
     "languageId": "r"
    }
   },
   "outputs": [
    {
     "data": {
      "text/html": [
       "<table class=\"dataframe\">\n",
       "<caption>A tbl_ts: 63 × 2</caption>\n",
       "<thead>\n",
       "\t<tr><th scope=col>YearMonth</th><th scope=col>Monthly_Sales</th></tr>\n",
       "\t<tr><th scope=col>&lt;mth&gt;</th><th scope=col>&lt;int&gt;</th></tr>\n",
       "</thead>\n",
       "<tbody>\n",
       "\t<tr><td>2011 Feb</td><td>35702</td></tr>\n",
       "\t<tr><td>2011 Mar</td><td>36899</td></tr>\n",
       "\t<tr><td>2011 Apr</td><td>35727</td></tr>\n",
       "\t<tr><td>2011 May</td><td>35718</td></tr>\n",
       "\t<tr><td>2011 Jun</td><td>41965</td></tr>\n",
       "\t<tr><td>2011 Jul</td><td>47161</td></tr>\n",
       "\t<tr><td>2011 Aug</td><td>50629</td></tr>\n",
       "\t<tr><td>2011 Sep</td><td>47000</td></tr>\n",
       "\t<tr><td>2011 Oct</td><td>48812</td></tr>\n",
       "\t<tr><td>2011 Nov</td><td>43798</td></tr>\n",
       "\t<tr><td>2011 Dec</td><td>44907</td></tr>\n",
       "\t<tr><td>2012 Jan</td><td>42315</td></tr>\n",
       "\t<tr><td>2012 Feb</td><td>41797</td></tr>\n",
       "\t<tr><td>2012 Mar</td><td>49498</td></tr>\n",
       "\t<tr><td>2012 Apr</td><td>48329</td></tr>\n",
       "\t<tr><td>2012 May</td><td>54148</td></tr>\n",
       "\t<tr><td>2012 Jun</td><td>55674</td></tr>\n",
       "\t<tr><td>2012 Jul</td><td>51535</td></tr>\n",
       "\t<tr><td>2012 Aug</td><td>55750</td></tr>\n",
       "\t<tr><td>2012 Sep</td><td>49240</td></tr>\n",
       "\t<tr><td>2012 Oct</td><td>47495</td></tr>\n",
       "\t<tr><td>2012 Nov</td><td>41551</td></tr>\n",
       "\t<tr><td>2012 Dec</td><td>44615</td></tr>\n",
       "\t<tr><td>2013 Jan</td><td>42271</td></tr>\n",
       "\t<tr><td>2013 Feb</td><td>39717</td></tr>\n",
       "\t<tr><td>2013 Mar</td><td>44972</td></tr>\n",
       "\t<tr><td>2013 Apr</td><td>40879</td></tr>\n",
       "\t<tr><td>2013 May</td><td>44220</td></tr>\n",
       "\t<tr><td>2013 Jun</td><td>49677</td></tr>\n",
       "\t<tr><td>2013 Jul</td><td>51829</td></tr>\n",
       "\t<tr><td>⋮</td><td>⋮</td></tr>\n",
       "\t<tr><td>2013 Nov</td><td>43522</td></tr>\n",
       "\t<tr><td>2013 Dec</td><td>43930</td></tr>\n",
       "\t<tr><td>2014 Jan</td><td>43939</td></tr>\n",
       "\t<tr><td>2014 Feb</td><td>41768</td></tr>\n",
       "\t<tr><td>2014 Mar</td><td>50742</td></tr>\n",
       "\t<tr><td>2014 Apr</td><td>53217</td></tr>\n",
       "\t<tr><td>2014 May</td><td>51457</td></tr>\n",
       "\t<tr><td>2014 Jun</td><td>54752</td></tr>\n",
       "\t<tr><td>2014 Jul</td><td>57742</td></tr>\n",
       "\t<tr><td>2014 Aug</td><td>59032</td></tr>\n",
       "\t<tr><td>2014 Sep</td><td>51665</td></tr>\n",
       "\t<tr><td>2014 Oct</td><td>49559</td></tr>\n",
       "\t<tr><td>2014 Nov</td><td>44374</td></tr>\n",
       "\t<tr><td>2014 Dec</td><td>41764</td></tr>\n",
       "\t<tr><td>2015 Jan</td><td>45117</td></tr>\n",
       "\t<tr><td>2015 Feb</td><td>44563</td></tr>\n",
       "\t<tr><td>2015 Mar</td><td>49634</td></tr>\n",
       "\t<tr><td>2015 Apr</td><td>50310</td></tr>\n",
       "\t<tr><td>2015 May</td><td>52497</td></tr>\n",
       "\t<tr><td>2015 Jun</td><td>52154</td></tr>\n",
       "\t<tr><td>2015 Jul</td><td>56551</td></tr>\n",
       "\t<tr><td>2015 Aug</td><td>55138</td></tr>\n",
       "\t<tr><td>2015 Sep</td><td>48125</td></tr>\n",
       "\t<tr><td>2015 Oct</td><td>50561</td></tr>\n",
       "\t<tr><td>2015 Nov</td><td>44215</td></tr>\n",
       "\t<tr><td>2015 Dec</td><td>43044</td></tr>\n",
       "\t<tr><td>2016 Jan</td><td>47900</td></tr>\n",
       "\t<tr><td>2016 Feb</td><td>49482</td></tr>\n",
       "\t<tr><td>2016 Mar</td><td>52410</td></tr>\n",
       "\t<tr><td>2016 Apr</td><td>41646</td></tr>\n",
       "</tbody>\n",
       "</table>\n"
      ],
      "text/latex": [
       "A tbl\\_ts: 63 × 2\n",
       "\\begin{tabular}{ll}\n",
       " YearMonth & Monthly\\_Sales\\\\\n",
       " <mth> & <int>\\\\\n",
       "\\hline\n",
       "\t 2011 Feb & 35702\\\\\n",
       "\t 2011 Mar & 36899\\\\\n",
       "\t 2011 Apr & 35727\\\\\n",
       "\t 2011 May & 35718\\\\\n",
       "\t 2011 Jun & 41965\\\\\n",
       "\t 2011 Jul & 47161\\\\\n",
       "\t 2011 Aug & 50629\\\\\n",
       "\t 2011 Sep & 47000\\\\\n",
       "\t 2011 Oct & 48812\\\\\n",
       "\t 2011 Nov & 43798\\\\\n",
       "\t 2011 Dec & 44907\\\\\n",
       "\t 2012 Jan & 42315\\\\\n",
       "\t 2012 Feb & 41797\\\\\n",
       "\t 2012 Mar & 49498\\\\\n",
       "\t 2012 Apr & 48329\\\\\n",
       "\t 2012 May & 54148\\\\\n",
       "\t 2012 Jun & 55674\\\\\n",
       "\t 2012 Jul & 51535\\\\\n",
       "\t 2012 Aug & 55750\\\\\n",
       "\t 2012 Sep & 49240\\\\\n",
       "\t 2012 Oct & 47495\\\\\n",
       "\t 2012 Nov & 41551\\\\\n",
       "\t 2012 Dec & 44615\\\\\n",
       "\t 2013 Jan & 42271\\\\\n",
       "\t 2013 Feb & 39717\\\\\n",
       "\t 2013 Mar & 44972\\\\\n",
       "\t 2013 Apr & 40879\\\\\n",
       "\t 2013 May & 44220\\\\\n",
       "\t 2013 Jun & 49677\\\\\n",
       "\t 2013 Jul & 51829\\\\\n",
       "\t ⋮ & ⋮\\\\\n",
       "\t 2013 Nov & 43522\\\\\n",
       "\t 2013 Dec & 43930\\\\\n",
       "\t 2014 Jan & 43939\\\\\n",
       "\t 2014 Feb & 41768\\\\\n",
       "\t 2014 Mar & 50742\\\\\n",
       "\t 2014 Apr & 53217\\\\\n",
       "\t 2014 May & 51457\\\\\n",
       "\t 2014 Jun & 54752\\\\\n",
       "\t 2014 Jul & 57742\\\\\n",
       "\t 2014 Aug & 59032\\\\\n",
       "\t 2014 Sep & 51665\\\\\n",
       "\t 2014 Oct & 49559\\\\\n",
       "\t 2014 Nov & 44374\\\\\n",
       "\t 2014 Dec & 41764\\\\\n",
       "\t 2015 Jan & 45117\\\\\n",
       "\t 2015 Feb & 44563\\\\\n",
       "\t 2015 Mar & 49634\\\\\n",
       "\t 2015 Apr & 50310\\\\\n",
       "\t 2015 May & 52497\\\\\n",
       "\t 2015 Jun & 52154\\\\\n",
       "\t 2015 Jul & 56551\\\\\n",
       "\t 2015 Aug & 55138\\\\\n",
       "\t 2015 Sep & 48125\\\\\n",
       "\t 2015 Oct & 50561\\\\\n",
       "\t 2015 Nov & 44215\\\\\n",
       "\t 2015 Dec & 43044\\\\\n",
       "\t 2016 Jan & 47900\\\\\n",
       "\t 2016 Feb & 49482\\\\\n",
       "\t 2016 Mar & 52410\\\\\n",
       "\t 2016 Apr & 41646\\\\\n",
       "\\end{tabular}\n"
      ],
      "text/markdown": [
       "\n",
       "A tbl_ts: 63 × 2\n",
       "\n",
       "| YearMonth &lt;mth&gt; | Monthly_Sales &lt;int&gt; |\n",
       "|---|---|\n",
       "| 2011 Feb | 35702 |\n",
       "| 2011 Mar | 36899 |\n",
       "| 2011 Apr | 35727 |\n",
       "| 2011 May | 35718 |\n",
       "| 2011 Jun | 41965 |\n",
       "| 2011 Jul | 47161 |\n",
       "| 2011 Aug | 50629 |\n",
       "| 2011 Sep | 47000 |\n",
       "| 2011 Oct | 48812 |\n",
       "| 2011 Nov | 43798 |\n",
       "| 2011 Dec | 44907 |\n",
       "| 2012 Jan | 42315 |\n",
       "| 2012 Feb | 41797 |\n",
       "| 2012 Mar | 49498 |\n",
       "| 2012 Apr | 48329 |\n",
       "| 2012 May | 54148 |\n",
       "| 2012 Jun | 55674 |\n",
       "| 2012 Jul | 51535 |\n",
       "| 2012 Aug | 55750 |\n",
       "| 2012 Sep | 49240 |\n",
       "| 2012 Oct | 47495 |\n",
       "| 2012 Nov | 41551 |\n",
       "| 2012 Dec | 44615 |\n",
       "| 2013 Jan | 42271 |\n",
       "| 2013 Feb | 39717 |\n",
       "| 2013 Mar | 44972 |\n",
       "| 2013 Apr | 40879 |\n",
       "| 2013 May | 44220 |\n",
       "| 2013 Jun | 49677 |\n",
       "| 2013 Jul | 51829 |\n",
       "| ⋮ | ⋮ |\n",
       "| 2013 Nov | 43522 |\n",
       "| 2013 Dec | 43930 |\n",
       "| 2014 Jan | 43939 |\n",
       "| 2014 Feb | 41768 |\n",
       "| 2014 Mar | 50742 |\n",
       "| 2014 Apr | 53217 |\n",
       "| 2014 May | 51457 |\n",
       "| 2014 Jun | 54752 |\n",
       "| 2014 Jul | 57742 |\n",
       "| 2014 Aug | 59032 |\n",
       "| 2014 Sep | 51665 |\n",
       "| 2014 Oct | 49559 |\n",
       "| 2014 Nov | 44374 |\n",
       "| 2014 Dec | 41764 |\n",
       "| 2015 Jan | 45117 |\n",
       "| 2015 Feb | 44563 |\n",
       "| 2015 Mar | 49634 |\n",
       "| 2015 Apr | 50310 |\n",
       "| 2015 May | 52497 |\n",
       "| 2015 Jun | 52154 |\n",
       "| 2015 Jul | 56551 |\n",
       "| 2015 Aug | 55138 |\n",
       "| 2015 Sep | 48125 |\n",
       "| 2015 Oct | 50561 |\n",
       "| 2015 Nov | 44215 |\n",
       "| 2015 Dec | 43044 |\n",
       "| 2016 Jan | 47900 |\n",
       "| 2016 Feb | 49482 |\n",
       "| 2016 Mar | 52410 |\n",
       "| 2016 Apr | 41646 |\n",
       "\n"
      ],
      "text/plain": [
       "   YearMonth Monthly_Sales\n",
       "1  2011 Feb  35702        \n",
       "2  2011 Mar  36899        \n",
       "3  2011 Apr  35727        \n",
       "4  2011 May  35718        \n",
       "5  2011 Jun  41965        \n",
       "6  2011 Jul  47161        \n",
       "7  2011 Aug  50629        \n",
       "8  2011 Sep  47000        \n",
       "9  2011 Oct  48812        \n",
       "10 2011 Nov  43798        \n",
       "11 2011 Dec  44907        \n",
       "12 2012 Jan  42315        \n",
       "13 2012 Feb  41797        \n",
       "14 2012 Mar  49498        \n",
       "15 2012 Apr  48329        \n",
       "16 2012 May  54148        \n",
       "17 2012 Jun  55674        \n",
       "18 2012 Jul  51535        \n",
       "19 2012 Aug  55750        \n",
       "20 2012 Sep  49240        \n",
       "21 2012 Oct  47495        \n",
       "22 2012 Nov  41551        \n",
       "23 2012 Dec  44615        \n",
       "24 2013 Jan  42271        \n",
       "25 2013 Feb  39717        \n",
       "26 2013 Mar  44972        \n",
       "27 2013 Apr  40879        \n",
       "28 2013 May  44220        \n",
       "29 2013 Jun  49677        \n",
       "30 2013 Jul  51829        \n",
       "⋮  ⋮         ⋮            \n",
       "34 2013 Nov  43522        \n",
       "35 2013 Dec  43930        \n",
       "36 2014 Jan  43939        \n",
       "37 2014 Feb  41768        \n",
       "38 2014 Mar  50742        \n",
       "39 2014 Apr  53217        \n",
       "40 2014 May  51457        \n",
       "41 2014 Jun  54752        \n",
       "42 2014 Jul  57742        \n",
       "43 2014 Aug  59032        \n",
       "44 2014 Sep  51665        \n",
       "45 2014 Oct  49559        \n",
       "46 2014 Nov  44374        \n",
       "47 2014 Dec  41764        \n",
       "48 2015 Jan  45117        \n",
       "49 2015 Feb  44563        \n",
       "50 2015 Mar  49634        \n",
       "51 2015 Apr  50310        \n",
       "52 2015 May  52497        \n",
       "53 2015 Jun  52154        \n",
       "54 2015 Jul  56551        \n",
       "55 2015 Aug  55138        \n",
       "56 2015 Sep  48125        \n",
       "57 2015 Oct  50561        \n",
       "58 2015 Nov  44215        \n",
       "59 2015 Dec  43044        \n",
       "60 2016 Jan  47900        \n",
       "61 2016 Feb  49482        \n",
       "62 2016 Mar  52410        \n",
       "63 2016 Apr  41646        "
      ]
     },
     "metadata": {},
     "output_type": "display_data"
    }
   ],
   "source": [
    "monthly_overall_avg_sales"
   ]
  },
  {
   "cell_type": "code",
   "execution_count": 13,
   "metadata": {
    "vscode": {
     "languageId": "r"
    }
   },
   "outputs": [
    {
     "data": {
      "image/png": "[encoded data removed]",
      "text/plain": [
       "plot without title"
      ]
     },
     "metadata": {
      "image/png": {
       "height": 420,
       "width": 420
      }
     },
     "output_type": "display_data"
    }
   ],
   "source": [
    "monthly_overall_avg_sales %>% \n",
    "    gg_subseries(Monthly_Sales) + labs(title = \"Monthly Sales\", x = \"Year, Month\", y = \"Number of Sales\") + theme(aspect.ratio = 8)"
   ]
  },
  {
   "cell_type": "markdown",
   "metadata": {},
   "source": [
    "### Most sold product on average"
   ]
  },
  {
   "cell_type": "code",
   "execution_count": 15,
   "metadata": {
    "vscode": {
     "languageId": "r"
    }
   },
   "outputs": [
    {
     "data": {
      "text/html": [
       "<table class=\"dataframe\">\n",
       "<caption>A tibble: 1 × 1915</caption>\n",
       "<thead>\n",
       "\t<tr><th scope=col>id</th><th scope=col>d_1</th><th scope=col>d_2</th><th scope=col>d_3</th><th scope=col>d_4</th><th scope=col>d_5</th><th scope=col>d_6</th><th scope=col>d_7</th><th scope=col>d_8</th><th scope=col>d_9</th><th scope=col>⋯</th><th scope=col>d_1905</th><th scope=col>d_1906</th><th scope=col>d_1907</th><th scope=col>d_1908</th><th scope=col>d_1909</th><th scope=col>d_1910</th><th scope=col>d_1911</th><th scope=col>d_1912</th><th scope=col>d_1913</th><th scope=col>avg_sales</th></tr>\n",
       "\t<tr><th scope=col>&lt;chr&gt;</th><th scope=col>&lt;int&gt;</th><th scope=col>&lt;int&gt;</th><th scope=col>&lt;int&gt;</th><th scope=col>&lt;int&gt;</th><th scope=col>&lt;int&gt;</th><th scope=col>&lt;int&gt;</th><th scope=col>&lt;int&gt;</th><th scope=col>&lt;int&gt;</th><th scope=col>&lt;int&gt;</th><th scope=col>⋯</th><th scope=col>&lt;int&gt;</th><th scope=col>&lt;int&gt;</th><th scope=col>&lt;int&gt;</th><th scope=col>&lt;int&gt;</th><th scope=col>&lt;int&gt;</th><th scope=col>&lt;int&gt;</th><th scope=col>&lt;int&gt;</th><th scope=col>&lt;int&gt;</th><th scope=col>&lt;int&gt;</th><th scope=col>&lt;dbl&gt;</th></tr>\n",
       "</thead>\n",
       "<tbody>\n",
       "\t<tr><td>FOODS_3_586_TX_3_validation</td><td>115</td><td>116</td><td>71</td><td>66</td><td>66</td><td>89</td><td>78</td><td>123</td><td>115</td><td>⋯</td><td>67</td><td>69</td><td>49</td><td>55</td><td>60</td><td>55</td><td>55</td><td>66</td><td>47</td><td>78.47465</td></tr>\n",
       "</tbody>\n",
       "</table>\n"
      ],
      "text/latex": [
       "A tibble: 1 × 1915\n",
       "\\begin{tabular}{lllllllllllllllllllll}\n",
       " id & d\\_1 & d\\_2 & d\\_3 & d\\_4 & d\\_5 & d\\_6 & d\\_7 & d\\_8 & d\\_9 & ⋯ & d\\_1905 & d\\_1906 & d\\_1907 & d\\_1908 & d\\_1909 & d\\_1910 & d\\_1911 & d\\_1912 & d\\_1913 & avg\\_sales\\\\\n",
       " <chr> & <int> & <int> & <int> & <int> & <int> & <int> & <int> & <int> & <int> & ⋯ & <int> & <int> & <int> & <int> & <int> & <int> & <int> & <int> & <int> & <dbl>\\\\\n",
       "\\hline\n",
       "\t FOODS\\_3\\_586\\_TX\\_3\\_validation & 115 & 116 & 71 & 66 & 66 & 89 & 78 & 123 & 115 & ⋯ & 67 & 69 & 49 & 55 & 60 & 55 & 55 & 66 & 47 & 78.47465\\\\\n",
       "\\end{tabular}\n"
      ],
      "text/markdown": [
       "\n",
       "A tibble: 1 × 1915\n",
       "\n",
       "| id &lt;chr&gt; | d_1 &lt;int&gt; | d_2 &lt;int&gt; | d_3 &lt;int&gt; | d_4 &lt;int&gt; | d_5 &lt;int&gt; | d_6 &lt;int&gt; | d_7 &lt;int&gt; | d_8 &lt;int&gt; | d_9 &lt;int&gt; | ⋯ ⋯ | d_1905 &lt;int&gt; | d_1906 &lt;int&gt; | d_1907 &lt;int&gt; | d_1908 &lt;int&gt; | d_1909 &lt;int&gt; | d_1910 &lt;int&gt; | d_1911 &lt;int&gt; | d_1912 &lt;int&gt; | d_1913 &lt;int&gt; | avg_sales &lt;dbl&gt; |\n",
       "|---|---|---|---|---|---|---|---|---|---|---|---|---|---|---|---|---|---|---|---|---|\n",
       "| FOODS_3_586_TX_3_validation | 115 | 116 | 71 | 66 | 66 | 89 | 78 | 123 | 115 | ⋯ | 67 | 69 | 49 | 55 | 60 | 55 | 55 | 66 | 47 | 78.47465 |\n",
       "\n"
      ],
      "text/plain": [
       "  id                          d_1 d_2 d_3 d_4 d_5 d_6 d_7 d_8 d_9 ⋯ d_1905\n",
       "1 FOODS_3_586_TX_3_validation 115 116 71  66  66  89  78  123 115 ⋯ 67    \n",
       "  d_1906 d_1907 d_1908 d_1909 d_1910 d_1911 d_1912 d_1913 avg_sales\n",
       "1 69     49     55     60     55     55     66     47     78.47465 "
      ]
     },
     "metadata": {},
     "output_type": "display_data"
    }
   ],
   "source": [
    "most_selling_product <- sales_train_validation %>%\n",
    "  rowwise() %>%                                  # Operate on rows\n",
    "  mutate(avg_sales = mean(c_across(-1), na.rm = TRUE)) %>%  # Calculate average excluding the first column (ID)\n",
    "  ungroup() %>%                                  # End row-wise operation\n",
    "  slice_max(avg_sales, n = 1)  \n",
    "most_selling_product\n",
    "\n",
    "most_selling_id <- most_selling_product %>%\n",
    "  select(id)"
   ]
  },
  {
   "cell_type": "code",
   "execution_count": 16,
   "metadata": {
    "vscode": {
     "languageId": "r"
    }
   },
   "outputs": [
    {
     "name": "stderr",
     "output_type": "stream",
     "text": [
      "Warning message:\n",
      "\"\u001b[1m\u001b[22mThere was 1 warning in `mutate()`.\n",
      "\u001b[1m\u001b[22m\u001b[36mℹ\u001b[39m In argument: `Date = -...`.\n",
      "Caused by warning:\n",
      "\u001b[33m!\u001b[39m NAs introduced by coercion\"\n"
     ]
    }
   ],
   "source": [
    "# Convert each day column into one row by pivoting\n",
    "most_selling_product <- most_selling_product %>%\n",
    "pivot_longer(\n",
    "    cols = -id,                # Select all columns except the first one (product ID)\n",
    "    names_to = \"day_code\",     # Create a new column to store the day codes (d1, d2, etc.)\n",
    "    values_to = \"sales_value\"  # Create a new column for sales data\n",
    "  )\n",
    "\n",
    "# Add a Date column to `sales_highest`\n",
    "most_selling_product <- most_selling_product %>%\n",
    "  mutate(\n",
    "    Date = as.Date(\"2011-01-29\") + as.numeric(sub(\"d_\", \"\", day_code)) - 1\n",
    "  )"
   ]
  },
  {
   "cell_type": "code",
   "execution_count": 17,
   "metadata": {
    "vscode": {
     "languageId": "r"
    }
   },
   "outputs": [
    {
     "data": {
      "image/png": "[encoded data removed]",
      "text/plain": [
       "plot without title"
      ]
     },
     "metadata": {
      "image/png": {
       "height": 420,
       "width": 420
      }
     },
     "output_type": "display_data"
    }
   ],
   "source": [
    "most_selling_product %>%\n",
    "  drop_na(Date) %>%\n",
    "  as_tsibble(index = Date) %>%\n",
    "  autoplot(sales_value)"
   ]
  },
  {
   "cell_type": "markdown",
   "metadata": {},
   "source": [
    "### Distribution of sales"
   ]
  },
  {
   "cell_type": "code",
   "execution_count": 21,
   "metadata": {
    "vscode": {
     "languageId": "r"
    }
   },
   "outputs": [
    {
     "data": {
      "text/html": [
       "<table class=\"dataframe\">\n",
       "<caption>A data.frame: 10 × 2</caption>\n",
       "<thead>\n",
       "\t<tr><th></th><th scope=col>id</th><th scope=col>total_sales</th></tr>\n",
       "\t<tr><th></th><th scope=col>&lt;chr&gt;</th><th scope=col>&lt;dbl&gt;</th></tr>\n",
       "</thead>\n",
       "<tbody>\n",
       "\t<tr><th scope=row>1</th><td>FOODS_3_586_TX_3_validation</td><td>150122</td></tr>\n",
       "\t<tr><th scope=row>2</th><td>FOODS_3_090_TX_3_validation</td><td>114854</td></tr>\n",
       "\t<tr><th scope=row>3</th><td>FOODS_3_252_TX_3_validation</td><td> 86632</td></tr>\n",
       "\t<tr><th scope=row>4</th><td>FOODS_3_555_TX_3_validation</td><td> 77673</td></tr>\n",
       "\t<tr><th scope=row>5</th><td>FOODS_3_377_TX_3_validation</td><td> 73797</td></tr>\n",
       "\t<tr><th scope=row>6</th><td>FOODS_3_030_TX_3_validation</td><td> 47976</td></tr>\n",
       "\t<tr><th scope=row>7</th><td>FOODS_3_202_TX_3_validation</td><td> 41551</td></tr>\n",
       "\t<tr><th scope=row>8</th><td>FOODS_3_714_TX_3_validation</td><td> 40650</td></tr>\n",
       "\t<tr><th scope=row>9</th><td>FOODS_3_587_TX_3_validation</td><td> 40306</td></tr>\n",
       "\t<tr><th scope=row>10</th><td>FOODS_3_694_TX_3_validation</td><td> 35152</td></tr>\n",
       "</tbody>\n",
       "</table>\n"
      ],
      "text/latex": [
       "A data.frame: 10 × 2\n",
       "\\begin{tabular}{r|ll}\n",
       "  & id & total\\_sales\\\\\n",
       "  & <chr> & <dbl>\\\\\n",
       "\\hline\n",
       "\t1 & FOODS\\_3\\_586\\_TX\\_3\\_validation & 150122\\\\\n",
       "\t2 & FOODS\\_3\\_090\\_TX\\_3\\_validation & 114854\\\\\n",
       "\t3 & FOODS\\_3\\_252\\_TX\\_3\\_validation &  86632\\\\\n",
       "\t4 & FOODS\\_3\\_555\\_TX\\_3\\_validation &  77673\\\\\n",
       "\t5 & FOODS\\_3\\_377\\_TX\\_3\\_validation &  73797\\\\\n",
       "\t6 & FOODS\\_3\\_030\\_TX\\_3\\_validation &  47976\\\\\n",
       "\t7 & FOODS\\_3\\_202\\_TX\\_3\\_validation &  41551\\\\\n",
       "\t8 & FOODS\\_3\\_714\\_TX\\_3\\_validation &  40650\\\\\n",
       "\t9 & FOODS\\_3\\_587\\_TX\\_3\\_validation &  40306\\\\\n",
       "\t10 & FOODS\\_3\\_694\\_TX\\_3\\_validation &  35152\\\\\n",
       "\\end{tabular}\n"
      ],
      "text/markdown": [
       "\n",
       "A data.frame: 10 × 2\n",
       "\n",
       "| <!--/--> | id &lt;chr&gt; | total_sales &lt;dbl&gt; |\n",
       "|---|---|---|\n",
       "| 1 | FOODS_3_586_TX_3_validation | 150122 |\n",
       "| 2 | FOODS_3_090_TX_3_validation | 114854 |\n",
       "| 3 | FOODS_3_252_TX_3_validation |  86632 |\n",
       "| 4 | FOODS_3_555_TX_3_validation |  77673 |\n",
       "| 5 | FOODS_3_377_TX_3_validation |  73797 |\n",
       "| 6 | FOODS_3_030_TX_3_validation |  47976 |\n",
       "| 7 | FOODS_3_202_TX_3_validation |  41551 |\n",
       "| 8 | FOODS_3_714_TX_3_validation |  40650 |\n",
       "| 9 | FOODS_3_587_TX_3_validation |  40306 |\n",
       "| 10 | FOODS_3_694_TX_3_validation |  35152 |\n",
       "\n"
      ],
      "text/plain": [
       "   id                          total_sales\n",
       "1  FOODS_3_586_TX_3_validation 150122     \n",
       "2  FOODS_3_090_TX_3_validation 114854     \n",
       "3  FOODS_3_252_TX_3_validation  86632     \n",
       "4  FOODS_3_555_TX_3_validation  77673     \n",
       "5  FOODS_3_377_TX_3_validation  73797     \n",
       "6  FOODS_3_030_TX_3_validation  47976     \n",
       "7  FOODS_3_202_TX_3_validation  41551     \n",
       "8  FOODS_3_714_TX_3_validation  40650     \n",
       "9  FOODS_3_587_TX_3_validation  40306     \n",
       "10 FOODS_3_694_TX_3_validation  35152     "
      ]
     },
     "metadata": {},
     "output_type": "display_data"
    }
   ],
   "source": [
    "sales_train_validation$total_sales <- rowSums(sales_train_validation[,grep(\"d_\",colnames(sales_train_validation))])\n",
    " sales_train_validation%>%\n",
    " select(id,total_sales) %>%\n",
    " arrange(desc(total_sales)) %>%\n",
    " head(10)"
   ]
  },
  {
   "cell_type": "code",
   "execution_count": 22,
   "metadata": {
    "vscode": {
     "languageId": "r"
    }
   },
   "outputs": [
    {
     "data": {
      "text/html": [
       "<table class=\"dataframe\">\n",
       "<caption>A data.frame: 1 × 5</caption>\n",
       "<thead>\n",
       "\t<tr><th scope=col>avg_sales</th><th scope=col>max_sales</th><th scope=col>min_sales</th><th scope=col>product_with_max_sales</th><th scope=col>product_with_min_sales</th></tr>\n",
       "\t<tr><th scope=col>&lt;dbl&gt;</th><th scope=col>&lt;dbl&gt;</th><th scope=col>&lt;dbl&gt;</th><th scope=col>&lt;chr&gt;</th><th scope=col>&lt;chr&gt;</th></tr>\n",
       "</thead>\n",
       "<tbody>\n",
       "\t<tr><td>3642.109</td><td>150122</td><td>35</td><td>FOODS_3_586_TX_3_validation</td><td>FOODS_3_171_TX_3_validation</td></tr>\n",
       "</tbody>\n",
       "</table>\n"
      ],
      "text/latex": [
       "A data.frame: 1 × 5\n",
       "\\begin{tabular}{lllll}\n",
       " avg\\_sales & max\\_sales & min\\_sales & product\\_with\\_max\\_sales & product\\_with\\_min\\_sales\\\\\n",
       " <dbl> & <dbl> & <dbl> & <chr> & <chr>\\\\\n",
       "\\hline\n",
       "\t 3642.109 & 150122 & 35 & FOODS\\_3\\_586\\_TX\\_3\\_validation & FOODS\\_3\\_171\\_TX\\_3\\_validation\\\\\n",
       "\\end{tabular}\n"
      ],
      "text/markdown": [
       "\n",
       "A data.frame: 1 × 5\n",
       "\n",
       "| avg_sales &lt;dbl&gt; | max_sales &lt;dbl&gt; | min_sales &lt;dbl&gt; | product_with_max_sales &lt;chr&gt; | product_with_min_sales &lt;chr&gt; |\n",
       "|---|---|---|---|---|\n",
       "| 3642.109 | 150122 | 35 | FOODS_3_586_TX_3_validation | FOODS_3_171_TX_3_validation |\n",
       "\n"
      ],
      "text/plain": [
       "  avg_sales max_sales min_sales product_with_max_sales     \n",
       "1 3642.109  150122    35        FOODS_3_586_TX_3_validation\n",
       "  product_with_min_sales     \n",
       "1 FOODS_3_171_TX_3_validation"
      ]
     },
     "metadata": {},
     "output_type": "display_data"
    }
   ],
   "source": [
    "sales_stats <- sales_train_validation %>%\n",
    "    summarise(\n",
    "        avg_sales = mean(total_sales, na.rm = TRUE),\n",
    "        max_sales = max(total_sales, na.rm = TRUE),\n",
    "        min_sales = min(total_sales, na.rm = TRUE),\n",
    "        product_with_max_sales = id[which.max(total_sales)],\n",
    "        product_with_min_sales = id[which.min(total_sales)]\n",
    "    )\n",
    "\n",
    "sales_stats\n"
   ]
  },
  {
   "cell_type": "markdown",
   "metadata": {},
   "source": [
    "# Price"
   ]
  },
  {
   "cell_type": "code",
   "execution_count": 23,
   "metadata": {
    "vscode": {
     "languageId": "r"
    }
   },
   "outputs": [
    {
     "data": {
      "text/html": [
       "<table class=\"dataframe\">\n",
       "<caption>A data.frame: 6 × 4</caption>\n",
       "<thead>\n",
       "\t<tr><th></th><th scope=col>store_id</th><th scope=col>item_id</th><th scope=col>wm_yr_wk</th><th scope=col>sell_price</th></tr>\n",
       "\t<tr><th></th><th scope=col>&lt;chr&gt;</th><th scope=col>&lt;chr&gt;</th><th scope=col>&lt;int&gt;</th><th scope=col>&lt;dbl&gt;</th></tr>\n",
       "</thead>\n",
       "<tbody>\n",
       "\t<tr><th scope=row>1</th><td>TX_3</td><td>FOODS_3_001</td><td>11101</td><td>2.28</td></tr>\n",
       "\t<tr><th scope=row>2</th><td>TX_3</td><td>FOODS_3_001</td><td>11102</td><td>2.28</td></tr>\n",
       "\t<tr><th scope=row>3</th><td>TX_3</td><td>FOODS_3_001</td><td>11103</td><td>2.28</td></tr>\n",
       "\t<tr><th scope=row>4</th><td>TX_3</td><td>FOODS_3_001</td><td>11104</td><td>2.28</td></tr>\n",
       "\t<tr><th scope=row>5</th><td>TX_3</td><td>FOODS_3_001</td><td>11105</td><td>2.28</td></tr>\n",
       "\t<tr><th scope=row>6</th><td>TX_3</td><td>FOODS_3_001</td><td>11106</td><td>2.28</td></tr>\n",
       "</tbody>\n",
       "</table>\n"
      ],
      "text/latex": [
       "A data.frame: 6 × 4\n",
       "\\begin{tabular}{r|llll}\n",
       "  & store\\_id & item\\_id & wm\\_yr\\_wk & sell\\_price\\\\\n",
       "  & <chr> & <chr> & <int> & <dbl>\\\\\n",
       "\\hline\n",
       "\t1 & TX\\_3 & FOODS\\_3\\_001 & 11101 & 2.28\\\\\n",
       "\t2 & TX\\_3 & FOODS\\_3\\_001 & 11102 & 2.28\\\\\n",
       "\t3 & TX\\_3 & FOODS\\_3\\_001 & 11103 & 2.28\\\\\n",
       "\t4 & TX\\_3 & FOODS\\_3\\_001 & 11104 & 2.28\\\\\n",
       "\t5 & TX\\_3 & FOODS\\_3\\_001 & 11105 & 2.28\\\\\n",
       "\t6 & TX\\_3 & FOODS\\_3\\_001 & 11106 & 2.28\\\\\n",
       "\\end{tabular}\n"
      ],
      "text/markdown": [
       "\n",
       "A data.frame: 6 × 4\n",
       "\n",
       "| <!--/--> | store_id &lt;chr&gt; | item_id &lt;chr&gt; | wm_yr_wk &lt;int&gt; | sell_price &lt;dbl&gt; |\n",
       "|---|---|---|---|---|\n",
       "| 1 | TX_3 | FOODS_3_001 | 11101 | 2.28 |\n",
       "| 2 | TX_3 | FOODS_3_001 | 11102 | 2.28 |\n",
       "| 3 | TX_3 | FOODS_3_001 | 11103 | 2.28 |\n",
       "| 4 | TX_3 | FOODS_3_001 | 11104 | 2.28 |\n",
       "| 5 | TX_3 | FOODS_3_001 | 11105 | 2.28 |\n",
       "| 6 | TX_3 | FOODS_3_001 | 11106 | 2.28 |\n",
       "\n"
      ],
      "text/plain": [
       "  store_id item_id     wm_yr_wk sell_price\n",
       "1 TX_3     FOODS_3_001 11101    2.28      \n",
       "2 TX_3     FOODS_3_001 11102    2.28      \n",
       "3 TX_3     FOODS_3_001 11103    2.28      \n",
       "4 TX_3     FOODS_3_001 11104    2.28      \n",
       "5 TX_3     FOODS_3_001 11105    2.28      \n",
       "6 TX_3     FOODS_3_001 11106    2.28      "
      ]
     },
     "metadata": {},
     "output_type": "display_data"
    },
    {
     "data": {
      "text/html": [
       "<table class=\"dataframe\">\n",
       "<caption>A data.frame: 6 × 4</caption>\n",
       "<thead>\n",
       "\t<tr><th></th><th scope=col>store_id</th><th scope=col>item_id</th><th scope=col>wm_yr_wk</th><th scope=col>sell_price</th></tr>\n",
       "\t<tr><th></th><th scope=col>&lt;chr&gt;</th><th scope=col>&lt;chr&gt;</th><th scope=col>&lt;int&gt;</th><th scope=col>&lt;dbl&gt;</th></tr>\n",
       "</thead>\n",
       "<tbody>\n",
       "\t<tr><th scope=row>185255</th><td>TX_3</td><td>FOODS_3_827</td><td>11616</td><td>1</td></tr>\n",
       "\t<tr><th scope=row>185256</th><td>TX_3</td><td>FOODS_3_827</td><td>11617</td><td>1</td></tr>\n",
       "\t<tr><th scope=row>185257</th><td>TX_3</td><td>FOODS_3_827</td><td>11618</td><td>1</td></tr>\n",
       "\t<tr><th scope=row>185258</th><td>TX_3</td><td>FOODS_3_827</td><td>11619</td><td>1</td></tr>\n",
       "\t<tr><th scope=row>185259</th><td>TX_3</td><td>FOODS_3_827</td><td>11620</td><td>1</td></tr>\n",
       "\t<tr><th scope=row>185260</th><td>TX_3</td><td>FOODS_3_827</td><td>11621</td><td>1</td></tr>\n",
       "</tbody>\n",
       "</table>\n"
      ],
      "text/latex": [
       "A data.frame: 6 × 4\n",
       "\\begin{tabular}{r|llll}\n",
       "  & store\\_id & item\\_id & wm\\_yr\\_wk & sell\\_price\\\\\n",
       "  & <chr> & <chr> & <int> & <dbl>\\\\\n",
       "\\hline\n",
       "\t185255 & TX\\_3 & FOODS\\_3\\_827 & 11616 & 1\\\\\n",
       "\t185256 & TX\\_3 & FOODS\\_3\\_827 & 11617 & 1\\\\\n",
       "\t185257 & TX\\_3 & FOODS\\_3\\_827 & 11618 & 1\\\\\n",
       "\t185258 & TX\\_3 & FOODS\\_3\\_827 & 11619 & 1\\\\\n",
       "\t185259 & TX\\_3 & FOODS\\_3\\_827 & 11620 & 1\\\\\n",
       "\t185260 & TX\\_3 & FOODS\\_3\\_827 & 11621 & 1\\\\\n",
       "\\end{tabular}\n"
      ],
      "text/markdown": [
       "\n",
       "A data.frame: 6 × 4\n",
       "\n",
       "| <!--/--> | store_id &lt;chr&gt; | item_id &lt;chr&gt; | wm_yr_wk &lt;int&gt; | sell_price &lt;dbl&gt; |\n",
       "|---|---|---|---|---|\n",
       "| 185255 | TX_3 | FOODS_3_827 | 11616 | 1 |\n",
       "| 185256 | TX_3 | FOODS_3_827 | 11617 | 1 |\n",
       "| 185257 | TX_3 | FOODS_3_827 | 11618 | 1 |\n",
       "| 185258 | TX_3 | FOODS_3_827 | 11619 | 1 |\n",
       "| 185259 | TX_3 | FOODS_3_827 | 11620 | 1 |\n",
       "| 185260 | TX_3 | FOODS_3_827 | 11621 | 1 |\n",
       "\n"
      ],
      "text/plain": [
       "       store_id item_id     wm_yr_wk sell_price\n",
       "185255 TX_3     FOODS_3_827 11616    1         \n",
       "185256 TX_3     FOODS_3_827 11617    1         \n",
       "185257 TX_3     FOODS_3_827 11618    1         \n",
       "185258 TX_3     FOODS_3_827 11619    1         \n",
       "185259 TX_3     FOODS_3_827 11620    1         \n",
       "185260 TX_3     FOODS_3_827 11621    1         "
      ]
     },
     "metadata": {},
     "output_type": "display_data"
    }
   ],
   "source": [
    "sell_prices %>% head()\n",
    "sell_prices %>% tail()"
   ]
  },
  {
   "cell_type": "markdown",
   "metadata": {},
   "source": [
    "### General price stats"
   ]
  },
  {
   "cell_type": "code",
   "execution_count": 24,
   "metadata": {
    "vscode": {
     "languageId": "r"
    }
   },
   "outputs": [
    {
     "data": {
      "text/html": [
       "<table class=\"dataframe\">\n",
       "<caption>A tibble: 1 × 4</caption>\n",
       "<thead>\n",
       "\t<tr><th scope=col>store_id</th><th scope=col>avg_price</th><th scope=col>max_price</th><th scope=col>min_price</th></tr>\n",
       "\t<tr><th scope=col>&lt;chr&gt;</th><th scope=col>&lt;dbl&gt;</th><th scope=col>&lt;dbl&gt;</th><th scope=col>&lt;dbl&gt;</th></tr>\n",
       "</thead>\n",
       "<tbody>\n",
       "\t<tr><td>TX_3</td><td>2.849929</td><td>19.48</td><td>0.02</td></tr>\n",
       "</tbody>\n",
       "</table>\n"
      ],
      "text/latex": [
       "A tibble: 1 × 4\n",
       "\\begin{tabular}{llll}\n",
       " store\\_id & avg\\_price & max\\_price & min\\_price\\\\\n",
       " <chr> & <dbl> & <dbl> & <dbl>\\\\\n",
       "\\hline\n",
       "\t TX\\_3 & 2.849929 & 19.48 & 0.02\\\\\n",
       "\\end{tabular}\n"
      ],
      "text/markdown": [
       "\n",
       "A tibble: 1 × 4\n",
       "\n",
       "| store_id &lt;chr&gt; | avg_price &lt;dbl&gt; | max_price &lt;dbl&gt; | min_price &lt;dbl&gt; |\n",
       "|---|---|---|---|\n",
       "| TX_3 | 2.849929 | 19.48 | 0.02 |\n",
       "\n"
      ],
      "text/plain": [
       "  store_id avg_price max_price min_price\n",
       "1 TX_3     2.849929  19.48     0.02     "
      ]
     },
     "metadata": {},
     "output_type": "display_data"
    }
   ],
   "source": [
    "price_stats <-sell_prices%>%\n",
    " group_by(store_id)%>%\n",
    " summarize(\n",
    "    avg_price= mean(sell_price,na.rm=TRUE),\n",
    "    max_price= max(sell_price,na.rm=TRUE),\n",
    "    min_price= min(sell_price,na.rm=TRUE)\n",
    "    )\n",
    "price_stats"
   ]
  },
  {
   "cell_type": "markdown",
   "metadata": {},
   "source": [
    "### Evolution in prices"
   ]
  },
  {
   "cell_type": "code",
   "execution_count": 25,
   "metadata": {
    "vscode": {
     "languageId": "r"
    }
   },
   "outputs": [
    {
     "name": "stderr",
     "output_type": "stream",
     "text": [
      "Warning message:\n",
      "\"\u001b[1m\u001b[22mThere was 1 warning in `mutate()`.\n",
      "\u001b[1m\u001b[22m\u001b[36mℹ\u001b[39m In argument: `Date = as.Date(paste(Year, Week, 1, sep = \"-\"), format =\n",
      "  \"%Y-%U-%u\")`.\n",
      "Caused by warning in `strptime()`:\n",
      "\u001b[33m!\u001b[39m (0-based) yday 370 in year 2013 is invalid\"\n",
      "Warning message:\n",
      "\"\u001b[1m\u001b[22mRemoved 1 row containing missing values or values outside the scale range\n",
      "(`geom_line()`).\"\n"
     ]
    },
    {
     "data": {
      "image/png": "[encoded data removed]",
      "text/plain": [
       "plot without title"
      ]
     },
     "metadata": {
      "image/png": {
       "height": 420,
       "width": 420
      }
     },
     "output_type": "display_data"
    }
   ],
   "source": [
    "price_per_week <- sell_prices %>%\n",
    "    group_by(wm_yr_wk) %>%\n",
    "    summarise(Average_Weekly_Price = mean(sell_price, na.rm = TRUE)) %>%\n",
    "    mutate(\n",
    "      Year = floor(wm_yr_wk / 100) + 1900, # Extract year\n",
    "      Week = wm_yr_wk %% 100,       # Extract week number\n",
    "      Date = as.Date(paste(Year, Week, 1, sep = \"-\"), format = \"%Y-%U-%u\") # Create a Date for the first day of each week\n",
    "    )\n",
    "\n",
    "# Plot the average price variation over time\n",
    "ggplot(price_per_week, aes(x = Date, y = Average_Weekly_Price)) +\n",
    "  geom_line() +\n",
    "  labs(title = \"Average Price Variation Over Time\",\n",
    "       x = \"Year-Week\",\n",
    "       y = \"Average Price\") + theme(aspect.ratio =  0.7)"
   ]
  },
  {
   "cell_type": "markdown",
   "metadata": {},
   "source": [
    "### Week with highest price change"
   ]
  },
  {
   "cell_type": "code",
   "execution_count": 26,
   "metadata": {
    "vscode": {
     "languageId": "r"
    }
   },
   "outputs": [
    {
     "name": "stderr",
     "output_type": "stream",
     "text": [
      "Warning message:\n",
      "\"\u001b[1m\u001b[22mRemoved 1 row containing missing values or values outside the scale range\n",
      "(`geom_line()`).\"\n"
     ]
    },
    {
     "data": {
      "image/png": "[encoded data removed]",
      "text/plain": [
       "plot without title"
      ]
     },
     "metadata": {
      "image/png": {
       "height": 420,
       "width": 420
      }
     },
     "output_type": "display_data"
    }
   ],
   "source": [
    "price_change_per_week <- price_per_week %>%\n",
    "    mutate(Week_Change = Average_Weekly_Price - lag(Average_Weekly_Price)) %>%\n",
    "    group_by(Week) %>%\n",
    "    summarise(Average_Change = mean(Week_Change))\n",
    "\n",
    "price_change_per_week %>%\n",
    "    as_tsibble(index = Week) %>%\n",
    "    autoplot(Average_Change) + labs(title = \"Average Weekly Change\", x = \"Week\", y = \"Price Change\") + theme(aspect.ratio = 0.7)"
   ]
  },
  {
   "cell_type": "markdown",
   "metadata": {},
   "source": [
    "### Price of most selling product"
   ]
  },
  {
   "cell_type": "code",
   "execution_count": 27,
   "metadata": {
    "vscode": {
     "languageId": "r"
    }
   },
   "outputs": [
    {
     "data": {
      "text/html": [
       "<table class=\"dataframe\">\n",
       "<caption>A tibble: 1 × 1</caption>\n",
       "<thead>\n",
       "\t<tr><th scope=col>id</th></tr>\n",
       "\t<tr><th scope=col>&lt;chr&gt;</th></tr>\n",
       "</thead>\n",
       "<tbody>\n",
       "\t<tr><td>FOODS_3_586_TX_3_validation</td></tr>\n",
       "</tbody>\n",
       "</table>\n"
      ],
      "text/latex": [
       "A tibble: 1 × 1\n",
       "\\begin{tabular}{l}\n",
       " id\\\\\n",
       " <chr>\\\\\n",
       "\\hline\n",
       "\t FOODS\\_3\\_586\\_TX\\_3\\_validation\\\\\n",
       "\\end{tabular}\n"
      ],
      "text/markdown": [
       "\n",
       "A tibble: 1 × 1\n",
       "\n",
       "| id &lt;chr&gt; |\n",
       "|---|\n",
       "| FOODS_3_586_TX_3_validation |\n",
       "\n"
      ],
      "text/plain": [
       "  id                         \n",
       "1 FOODS_3_586_TX_3_validation"
      ]
     },
     "metadata": {},
     "output_type": "display_data"
    }
   ],
   "source": [
    "most_selling_id"
   ]
  },
  {
   "cell_type": "markdown",
   "metadata": {},
   "source": [
    "# Calendar events"
   ]
  },
  {
   "cell_type": "code",
   "execution_count": 31,
   "metadata": {
    "vscode": {
     "languageId": "r"
    }
   },
   "outputs": [
    {
     "data": {
      "text/html": [
       "<table class=\"dataframe\">\n",
       "<caption>A data.frame: 1969 × 11</caption>\n",
       "<thead>\n",
       "\t<tr><th scope=col>date</th><th scope=col>wm_yr_wk</th><th scope=col>weekday</th><th scope=col>wday</th><th scope=col>month</th><th scope=col>year</th><th scope=col>event_name_1</th><th scope=col>event_type_1</th><th scope=col>event_name_2</th><th scope=col>event_type_2</th><th scope=col>snap_TX</th></tr>\n",
       "\t<tr><th scope=col>&lt;chr&gt;</th><th scope=col>&lt;int&gt;</th><th scope=col>&lt;chr&gt;</th><th scope=col>&lt;int&gt;</th><th scope=col>&lt;int&gt;</th><th scope=col>&lt;int&gt;</th><th scope=col>&lt;chr&gt;</th><th scope=col>&lt;chr&gt;</th><th scope=col>&lt;chr&gt;</th><th scope=col>&lt;chr&gt;</th><th scope=col>&lt;int&gt;</th></tr>\n",
       "</thead>\n",
       "<tbody>\n",
       "\t<tr><td>1/29/2011</td><td>11101</td><td>Saturday </td><td>1</td><td>1</td><td>2011</td><td>NA           </td><td>NA      </td><td>NA</td><td>NA</td><td>0</td></tr>\n",
       "\t<tr><td>1/30/2011</td><td>11101</td><td>Sunday   </td><td>2</td><td>1</td><td>2011</td><td>NA           </td><td>NA      </td><td>NA</td><td>NA</td><td>0</td></tr>\n",
       "\t<tr><td>1/31/2011</td><td>11101</td><td>Monday   </td><td>3</td><td>1</td><td>2011</td><td>NA           </td><td>NA      </td><td>NA</td><td>NA</td><td>0</td></tr>\n",
       "\t<tr><td>2/1/2011 </td><td>11101</td><td>Tuesday  </td><td>4</td><td>2</td><td>2011</td><td>NA           </td><td>NA      </td><td>NA</td><td>NA</td><td>1</td></tr>\n",
       "\t<tr><td>2/2/2011 </td><td>11101</td><td>Wednesday</td><td>5</td><td>2</td><td>2011</td><td>NA           </td><td>NA      </td><td>NA</td><td>NA</td><td>0</td></tr>\n",
       "\t<tr><td>2/3/2011 </td><td>11101</td><td>Thursday </td><td>6</td><td>2</td><td>2011</td><td>NA           </td><td>NA      </td><td>NA</td><td>NA</td><td>1</td></tr>\n",
       "\t<tr><td>2/4/2011 </td><td>11101</td><td>Friday   </td><td>7</td><td>2</td><td>2011</td><td>NA           </td><td>NA      </td><td>NA</td><td>NA</td><td>0</td></tr>\n",
       "\t<tr><td>2/5/2011 </td><td>11102</td><td>Saturday </td><td>1</td><td>2</td><td>2011</td><td>NA           </td><td>NA      </td><td>NA</td><td>NA</td><td>1</td></tr>\n",
       "\t<tr><td>2/6/2011 </td><td>11102</td><td>Sunday   </td><td>2</td><td>2</td><td>2011</td><td>SuperBowl    </td><td>Sporting</td><td>NA</td><td>NA</td><td>1</td></tr>\n",
       "\t<tr><td>2/7/2011 </td><td>11102</td><td>Monday   </td><td>3</td><td>2</td><td>2011</td><td>NA           </td><td>NA      </td><td>NA</td><td>NA</td><td>1</td></tr>\n",
       "\t<tr><td>2/8/2011 </td><td>11102</td><td>Tuesday  </td><td>4</td><td>2</td><td>2011</td><td>NA           </td><td>NA      </td><td>NA</td><td>NA</td><td>0</td></tr>\n",
       "\t<tr><td>2/9/2011 </td><td>11102</td><td>Wednesday</td><td>5</td><td>2</td><td>2011</td><td>NA           </td><td>NA      </td><td>NA</td><td>NA</td><td>1</td></tr>\n",
       "\t<tr><td>2/10/2011</td><td>11102</td><td>Thursday </td><td>6</td><td>2</td><td>2011</td><td>NA           </td><td>NA      </td><td>NA</td><td>NA</td><td>0</td></tr>\n",
       "\t<tr><td>2/11/2011</td><td>11102</td><td>Friday   </td><td>7</td><td>2</td><td>2011</td><td>NA           </td><td>NA      </td><td>NA</td><td>NA</td><td>1</td></tr>\n",
       "\t<tr><td>2/12/2011</td><td>11103</td><td>Saturday </td><td>1</td><td>2</td><td>2011</td><td>NA           </td><td>NA      </td><td>NA</td><td>NA</td><td>1</td></tr>\n",
       "\t<tr><td>2/13/2011</td><td>11103</td><td>Sunday   </td><td>2</td><td>2</td><td>2011</td><td>NA           </td><td>NA      </td><td>NA</td><td>NA</td><td>1</td></tr>\n",
       "\t<tr><td>2/14/2011</td><td>11103</td><td>Monday   </td><td>3</td><td>2</td><td>2011</td><td>ValentinesDay</td><td>Cultural</td><td>NA</td><td>NA</td><td>0</td></tr>\n",
       "\t<tr><td>2/15/2011</td><td>11103</td><td>Tuesday  </td><td>4</td><td>2</td><td>2011</td><td>NA           </td><td>NA      </td><td>NA</td><td>NA</td><td>1</td></tr>\n",
       "\t<tr><td>2/16/2011</td><td>11103</td><td>Wednesday</td><td>5</td><td>2</td><td>2011</td><td>NA           </td><td>NA      </td><td>NA</td><td>NA</td><td>0</td></tr>\n",
       "\t<tr><td>2/17/2011</td><td>11103</td><td>Thursday </td><td>6</td><td>2</td><td>2011</td><td>NA           </td><td>NA      </td><td>NA</td><td>NA</td><td>0</td></tr>\n",
       "\t<tr><td>2/18/2011</td><td>11103</td><td>Friday   </td><td>7</td><td>2</td><td>2011</td><td>NA           </td><td>NA      </td><td>NA</td><td>NA</td><td>0</td></tr>\n",
       "\t<tr><td>2/19/2011</td><td>11104</td><td>Saturday </td><td>1</td><td>2</td><td>2011</td><td>NA           </td><td>NA      </td><td>NA</td><td>NA</td><td>0</td></tr>\n",
       "\t<tr><td>2/20/2011</td><td>11104</td><td>Sunday   </td><td>2</td><td>2</td><td>2011</td><td>NA           </td><td>NA      </td><td>NA</td><td>NA</td><td>0</td></tr>\n",
       "\t<tr><td>2/21/2011</td><td>11104</td><td>Monday   </td><td>3</td><td>2</td><td>2011</td><td>PresidentsDay</td><td>National</td><td>NA</td><td>NA</td><td>0</td></tr>\n",
       "\t<tr><td>2/22/2011</td><td>11104</td><td>Tuesday  </td><td>4</td><td>2</td><td>2011</td><td>NA           </td><td>NA      </td><td>NA</td><td>NA</td><td>0</td></tr>\n",
       "\t<tr><td>2/23/2011</td><td>11104</td><td>Wednesday</td><td>5</td><td>2</td><td>2011</td><td>NA           </td><td>NA      </td><td>NA</td><td>NA</td><td>0</td></tr>\n",
       "\t<tr><td>2/24/2011</td><td>11104</td><td>Thursday </td><td>6</td><td>2</td><td>2011</td><td>NA           </td><td>NA      </td><td>NA</td><td>NA</td><td>0</td></tr>\n",
       "\t<tr><td>2/25/2011</td><td>11104</td><td>Friday   </td><td>7</td><td>2</td><td>2011</td><td>NA           </td><td>NA      </td><td>NA</td><td>NA</td><td>0</td></tr>\n",
       "\t<tr><td>2/26/2011</td><td>11105</td><td>Saturday </td><td>1</td><td>2</td><td>2011</td><td>NA           </td><td>NA      </td><td>NA</td><td>NA</td><td>0</td></tr>\n",
       "\t<tr><td>2/27/2011</td><td>11105</td><td>Sunday   </td><td>2</td><td>2</td><td>2011</td><td>NA           </td><td>NA      </td><td>NA</td><td>NA</td><td>0</td></tr>\n",
       "\t<tr><td>⋮</td><td>⋮</td><td>⋮</td><td>⋮</td><td>⋮</td><td>⋮</td><td>⋮</td><td>⋮</td><td>⋮</td><td>⋮</td><td>⋮</td></tr>\n",
       "\t<tr><td>5/21/2016</td><td>11617</td><td>Saturday </td><td>1</td><td>5</td><td>2016</td><td>NA            </td><td>NA       </td><td>NA          </td><td>NA      </td><td>0</td></tr>\n",
       "\t<tr><td>5/22/2016</td><td>11617</td><td>Sunday   </td><td>2</td><td>5</td><td>2016</td><td>NA            </td><td>NA       </td><td>NA          </td><td>NA      </td><td>0</td></tr>\n",
       "\t<tr><td>5/23/2016</td><td>11617</td><td>Monday   </td><td>3</td><td>5</td><td>2016</td><td>NA            </td><td>NA       </td><td>NA          </td><td>NA      </td><td>0</td></tr>\n",
       "\t<tr><td>5/24/2016</td><td>11617</td><td>Tuesday  </td><td>4</td><td>5</td><td>2016</td><td>NA            </td><td>NA       </td><td>NA          </td><td>NA      </td><td>0</td></tr>\n",
       "\t<tr><td>5/25/2016</td><td>11617</td><td>Wednesday</td><td>5</td><td>5</td><td>2016</td><td>NA            </td><td>NA       </td><td>NA          </td><td>NA      </td><td>0</td></tr>\n",
       "\t<tr><td>5/26/2016</td><td>11617</td><td>Thursday </td><td>6</td><td>5</td><td>2016</td><td>NA            </td><td>NA       </td><td>NA          </td><td>NA      </td><td>0</td></tr>\n",
       "\t<tr><td>5/27/2016</td><td>11617</td><td>Friday   </td><td>7</td><td>5</td><td>2016</td><td>NA            </td><td>NA       </td><td>NA          </td><td>NA      </td><td>0</td></tr>\n",
       "\t<tr><td>5/28/2016</td><td>11618</td><td>Saturday </td><td>1</td><td>5</td><td>2016</td><td>NA            </td><td>NA       </td><td>NA          </td><td>NA      </td><td>0</td></tr>\n",
       "\t<tr><td>5/29/2016</td><td>11618</td><td>Sunday   </td><td>2</td><td>5</td><td>2016</td><td>NA            </td><td>NA       </td><td>NA          </td><td>NA      </td><td>0</td></tr>\n",
       "\t<tr><td>5/30/2016</td><td>11618</td><td>Monday   </td><td>3</td><td>5</td><td>2016</td><td>MemorialDay   </td><td>National </td><td>NA          </td><td>NA      </td><td>0</td></tr>\n",
       "\t<tr><td>5/31/2016</td><td>11618</td><td>Tuesday  </td><td>4</td><td>5</td><td>2016</td><td>NA            </td><td>NA       </td><td>NA          </td><td>NA      </td><td>0</td></tr>\n",
       "\t<tr><td>6/1/2016 </td><td>11618</td><td>Wednesday</td><td>5</td><td>6</td><td>2016</td><td>NA            </td><td>NA       </td><td>NA          </td><td>NA      </td><td>1</td></tr>\n",
       "\t<tr><td>6/2/2016 </td><td>11618</td><td>Thursday </td><td>6</td><td>6</td><td>2016</td><td>NBAFinalsStart</td><td>Sporting </td><td>NA          </td><td>NA      </td><td>0</td></tr>\n",
       "\t<tr><td>6/3/2016 </td><td>11618</td><td>Friday   </td><td>7</td><td>6</td><td>2016</td><td>NA            </td><td>NA       </td><td>NA          </td><td>NA      </td><td>1</td></tr>\n",
       "\t<tr><td>6/4/2016 </td><td>11619</td><td>Saturday </td><td>1</td><td>6</td><td>2016</td><td>NA            </td><td>NA       </td><td>NA          </td><td>NA      </td><td>0</td></tr>\n",
       "\t<tr><td>6/5/2016 </td><td>11619</td><td>Sunday   </td><td>2</td><td>6</td><td>2016</td><td>NA            </td><td>NA       </td><td>NA          </td><td>NA      </td><td>1</td></tr>\n",
       "\t<tr><td>6/6/2016 </td><td>11619</td><td>Monday   </td><td>3</td><td>6</td><td>2016</td><td>NA            </td><td>NA       </td><td>NA          </td><td>NA      </td><td>1</td></tr>\n",
       "\t<tr><td>6/7/2016 </td><td>11619</td><td>Tuesday  </td><td>4</td><td>6</td><td>2016</td><td>Ramadan starts</td><td>Religious</td><td>NA          </td><td>NA      </td><td>1</td></tr>\n",
       "\t<tr><td>6/8/2016 </td><td>11619</td><td>Wednesday</td><td>5</td><td>6</td><td>2016</td><td>NA            </td><td>NA       </td><td>NA          </td><td>NA      </td><td>0</td></tr>\n",
       "\t<tr><td>6/9/2016 </td><td>11619</td><td>Thursday </td><td>6</td><td>6</td><td>2016</td><td>NA            </td><td>NA       </td><td>NA          </td><td>NA      </td><td>1</td></tr>\n",
       "\t<tr><td>6/10/2016</td><td>11619</td><td>Friday   </td><td>7</td><td>6</td><td>2016</td><td>NA            </td><td>NA       </td><td>NA          </td><td>NA      </td><td>0</td></tr>\n",
       "\t<tr><td>6/11/2016</td><td>11620</td><td>Saturday </td><td>1</td><td>6</td><td>2016</td><td>NA            </td><td>NA       </td><td>NA          </td><td>NA      </td><td>1</td></tr>\n",
       "\t<tr><td>6/12/2016</td><td>11620</td><td>Sunday   </td><td>2</td><td>6</td><td>2016</td><td>NA            </td><td>NA       </td><td>NA          </td><td>NA      </td><td>1</td></tr>\n",
       "\t<tr><td>6/13/2016</td><td>11620</td><td>Monday   </td><td>3</td><td>6</td><td>2016</td><td>NA            </td><td>NA       </td><td>NA          </td><td>NA      </td><td>1</td></tr>\n",
       "\t<tr><td>6/14/2016</td><td>11620</td><td>Tuesday  </td><td>4</td><td>6</td><td>2016</td><td>NA            </td><td>NA       </td><td>NA          </td><td>NA      </td><td>0</td></tr>\n",
       "\t<tr><td>6/15/2016</td><td>11620</td><td>Wednesday</td><td>5</td><td>6</td><td>2016</td><td>NA            </td><td>NA       </td><td>NA          </td><td>NA      </td><td>1</td></tr>\n",
       "\t<tr><td>6/16/2016</td><td>11620</td><td>Thursday </td><td>6</td><td>6</td><td>2016</td><td>NA            </td><td>NA       </td><td>NA          </td><td>NA      </td><td>0</td></tr>\n",
       "\t<tr><td>6/17/2016</td><td>11620</td><td>Friday   </td><td>7</td><td>6</td><td>2016</td><td>NA            </td><td>NA       </td><td>NA          </td><td>NA      </td><td>0</td></tr>\n",
       "\t<tr><td>6/18/2016</td><td>11621</td><td>Saturday </td><td>1</td><td>6</td><td>2016</td><td>NA            </td><td>NA       </td><td>NA          </td><td>NA      </td><td>0</td></tr>\n",
       "\t<tr><td>6/19/2016</td><td>11621</td><td>Sunday   </td><td>2</td><td>6</td><td>2016</td><td>NBAFinalsEnd  </td><td>Sporting </td><td>Father's day</td><td>Cultural</td><td>0</td></tr>\n",
       "</tbody>\n",
       "</table>\n"
      ],
      "text/latex": [
       "A data.frame: 1969 × 11\n",
       "\\begin{tabular}{lllllllllll}\n",
       " date & wm\\_yr\\_wk & weekday & wday & month & year & event\\_name\\_1 & event\\_type\\_1 & event\\_name\\_2 & event\\_type\\_2 & snap\\_TX\\\\\n",
       " <chr> & <int> & <chr> & <int> & <int> & <int> & <chr> & <chr> & <chr> & <chr> & <int>\\\\\n",
       "\\hline\n",
       "\t 1/29/2011 & 11101 & Saturday  & 1 & 1 & 2011 & NA            & NA       & NA & NA & 0\\\\\n",
       "\t 1/30/2011 & 11101 & Sunday    & 2 & 1 & 2011 & NA            & NA       & NA & NA & 0\\\\\n",
       "\t 1/31/2011 & 11101 & Monday    & 3 & 1 & 2011 & NA            & NA       & NA & NA & 0\\\\\n",
       "\t 2/1/2011  & 11101 & Tuesday   & 4 & 2 & 2011 & NA            & NA       & NA & NA & 1\\\\\n",
       "\t 2/2/2011  & 11101 & Wednesday & 5 & 2 & 2011 & NA            & NA       & NA & NA & 0\\\\\n",
       "\t 2/3/2011  & 11101 & Thursday  & 6 & 2 & 2011 & NA            & NA       & NA & NA & 1\\\\\n",
       "\t 2/4/2011  & 11101 & Friday    & 7 & 2 & 2011 & NA            & NA       & NA & NA & 0\\\\\n",
       "\t 2/5/2011  & 11102 & Saturday  & 1 & 2 & 2011 & NA            & NA       & NA & NA & 1\\\\\n",
       "\t 2/6/2011  & 11102 & Sunday    & 2 & 2 & 2011 & SuperBowl     & Sporting & NA & NA & 1\\\\\n",
       "\t 2/7/2011  & 11102 & Monday    & 3 & 2 & 2011 & NA            & NA       & NA & NA & 1\\\\\n",
       "\t 2/8/2011  & 11102 & Tuesday   & 4 & 2 & 2011 & NA            & NA       & NA & NA & 0\\\\\n",
       "\t 2/9/2011  & 11102 & Wednesday & 5 & 2 & 2011 & NA            & NA       & NA & NA & 1\\\\\n",
       "\t 2/10/2011 & 11102 & Thursday  & 6 & 2 & 2011 & NA            & NA       & NA & NA & 0\\\\\n",
       "\t 2/11/2011 & 11102 & Friday    & 7 & 2 & 2011 & NA            & NA       & NA & NA & 1\\\\\n",
       "\t 2/12/2011 & 11103 & Saturday  & 1 & 2 & 2011 & NA            & NA       & NA & NA & 1\\\\\n",
       "\t 2/13/2011 & 11103 & Sunday    & 2 & 2 & 2011 & NA            & NA       & NA & NA & 1\\\\\n",
       "\t 2/14/2011 & 11103 & Monday    & 3 & 2 & 2011 & ValentinesDay & Cultural & NA & NA & 0\\\\\n",
       "\t 2/15/2011 & 11103 & Tuesday   & 4 & 2 & 2011 & NA            & NA       & NA & NA & 1\\\\\n",
       "\t 2/16/2011 & 11103 & Wednesday & 5 & 2 & 2011 & NA            & NA       & NA & NA & 0\\\\\n",
       "\t 2/17/2011 & 11103 & Thursday  & 6 & 2 & 2011 & NA            & NA       & NA & NA & 0\\\\\n",
       "\t 2/18/2011 & 11103 & Friday    & 7 & 2 & 2011 & NA            & NA       & NA & NA & 0\\\\\n",
       "\t 2/19/2011 & 11104 & Saturday  & 1 & 2 & 2011 & NA            & NA       & NA & NA & 0\\\\\n",
       "\t 2/20/2011 & 11104 & Sunday    & 2 & 2 & 2011 & NA            & NA       & NA & NA & 0\\\\\n",
       "\t 2/21/2011 & 11104 & Monday    & 3 & 2 & 2011 & PresidentsDay & National & NA & NA & 0\\\\\n",
       "\t 2/22/2011 & 11104 & Tuesday   & 4 & 2 & 2011 & NA            & NA       & NA & NA & 0\\\\\n",
       "\t 2/23/2011 & 11104 & Wednesday & 5 & 2 & 2011 & NA            & NA       & NA & NA & 0\\\\\n",
       "\t 2/24/2011 & 11104 & Thursday  & 6 & 2 & 2011 & NA            & NA       & NA & NA & 0\\\\\n",
       "\t 2/25/2011 & 11104 & Friday    & 7 & 2 & 2011 & NA            & NA       & NA & NA & 0\\\\\n",
       "\t 2/26/2011 & 11105 & Saturday  & 1 & 2 & 2011 & NA            & NA       & NA & NA & 0\\\\\n",
       "\t 2/27/2011 & 11105 & Sunday    & 2 & 2 & 2011 & NA            & NA       & NA & NA & 0\\\\\n",
       "\t ⋮ & ⋮ & ⋮ & ⋮ & ⋮ & ⋮ & ⋮ & ⋮ & ⋮ & ⋮ & ⋮\\\\\n",
       "\t 5/21/2016 & 11617 & Saturday  & 1 & 5 & 2016 & NA             & NA        & NA           & NA       & 0\\\\\n",
       "\t 5/22/2016 & 11617 & Sunday    & 2 & 5 & 2016 & NA             & NA        & NA           & NA       & 0\\\\\n",
       "\t 5/23/2016 & 11617 & Monday    & 3 & 5 & 2016 & NA             & NA        & NA           & NA       & 0\\\\\n",
       "\t 5/24/2016 & 11617 & Tuesday   & 4 & 5 & 2016 & NA             & NA        & NA           & NA       & 0\\\\\n",
       "\t 5/25/2016 & 11617 & Wednesday & 5 & 5 & 2016 & NA             & NA        & NA           & NA       & 0\\\\\n",
       "\t 5/26/2016 & 11617 & Thursday  & 6 & 5 & 2016 & NA             & NA        & NA           & NA       & 0\\\\\n",
       "\t 5/27/2016 & 11617 & Friday    & 7 & 5 & 2016 & NA             & NA        & NA           & NA       & 0\\\\\n",
       "\t 5/28/2016 & 11618 & Saturday  & 1 & 5 & 2016 & NA             & NA        & NA           & NA       & 0\\\\\n",
       "\t 5/29/2016 & 11618 & Sunday    & 2 & 5 & 2016 & NA             & NA        & NA           & NA       & 0\\\\\n",
       "\t 5/30/2016 & 11618 & Monday    & 3 & 5 & 2016 & MemorialDay    & National  & NA           & NA       & 0\\\\\n",
       "\t 5/31/2016 & 11618 & Tuesday   & 4 & 5 & 2016 & NA             & NA        & NA           & NA       & 0\\\\\n",
       "\t 6/1/2016  & 11618 & Wednesday & 5 & 6 & 2016 & NA             & NA        & NA           & NA       & 1\\\\\n",
       "\t 6/2/2016  & 11618 & Thursday  & 6 & 6 & 2016 & NBAFinalsStart & Sporting  & NA           & NA       & 0\\\\\n",
       "\t 6/3/2016  & 11618 & Friday    & 7 & 6 & 2016 & NA             & NA        & NA           & NA       & 1\\\\\n",
       "\t 6/4/2016  & 11619 & Saturday  & 1 & 6 & 2016 & NA             & NA        & NA           & NA       & 0\\\\\n",
       "\t 6/5/2016  & 11619 & Sunday    & 2 & 6 & 2016 & NA             & NA        & NA           & NA       & 1\\\\\n",
       "\t 6/6/2016  & 11619 & Monday    & 3 & 6 & 2016 & NA             & NA        & NA           & NA       & 1\\\\\n",
       "\t 6/7/2016  & 11619 & Tuesday   & 4 & 6 & 2016 & Ramadan starts & Religious & NA           & NA       & 1\\\\\n",
       "\t 6/8/2016  & 11619 & Wednesday & 5 & 6 & 2016 & NA             & NA        & NA           & NA       & 0\\\\\n",
       "\t 6/9/2016  & 11619 & Thursday  & 6 & 6 & 2016 & NA             & NA        & NA           & NA       & 1\\\\\n",
       "\t 6/10/2016 & 11619 & Friday    & 7 & 6 & 2016 & NA             & NA        & NA           & NA       & 0\\\\\n",
       "\t 6/11/2016 & 11620 & Saturday  & 1 & 6 & 2016 & NA             & NA        & NA           & NA       & 1\\\\\n",
       "\t 6/12/2016 & 11620 & Sunday    & 2 & 6 & 2016 & NA             & NA        & NA           & NA       & 1\\\\\n",
       "\t 6/13/2016 & 11620 & Monday    & 3 & 6 & 2016 & NA             & NA        & NA           & NA       & 1\\\\\n",
       "\t 6/14/2016 & 11620 & Tuesday   & 4 & 6 & 2016 & NA             & NA        & NA           & NA       & 0\\\\\n",
       "\t 6/15/2016 & 11620 & Wednesday & 5 & 6 & 2016 & NA             & NA        & NA           & NA       & 1\\\\\n",
       "\t 6/16/2016 & 11620 & Thursday  & 6 & 6 & 2016 & NA             & NA        & NA           & NA       & 0\\\\\n",
       "\t 6/17/2016 & 11620 & Friday    & 7 & 6 & 2016 & NA             & NA        & NA           & NA       & 0\\\\\n",
       "\t 6/18/2016 & 11621 & Saturday  & 1 & 6 & 2016 & NA             & NA        & NA           & NA       & 0\\\\\n",
       "\t 6/19/2016 & 11621 & Sunday    & 2 & 6 & 2016 & NBAFinalsEnd   & Sporting  & Father's day & Cultural & 0\\\\\n",
       "\\end{tabular}\n"
      ],
      "text/markdown": [
       "\n",
       "A data.frame: 1969 × 11\n",
       "\n",
       "| date &lt;chr&gt; | wm_yr_wk &lt;int&gt; | weekday &lt;chr&gt; | wday &lt;int&gt; | month &lt;int&gt; | year &lt;int&gt; | event_name_1 &lt;chr&gt; | event_type_1 &lt;chr&gt; | event_name_2 &lt;chr&gt; | event_type_2 &lt;chr&gt; | snap_TX &lt;int&gt; |\n",
       "|---|---|---|---|---|---|---|---|---|---|---|\n",
       "| 1/29/2011 | 11101 | Saturday  | 1 | 1 | 2011 | NA            | NA       | NA | NA | 0 |\n",
       "| 1/30/2011 | 11101 | Sunday    | 2 | 1 | 2011 | NA            | NA       | NA | NA | 0 |\n",
       "| 1/31/2011 | 11101 | Monday    | 3 | 1 | 2011 | NA            | NA       | NA | NA | 0 |\n",
       "| 2/1/2011  | 11101 | Tuesday   | 4 | 2 | 2011 | NA            | NA       | NA | NA | 1 |\n",
       "| 2/2/2011  | 11101 | Wednesday | 5 | 2 | 2011 | NA            | NA       | NA | NA | 0 |\n",
       "| 2/3/2011  | 11101 | Thursday  | 6 | 2 | 2011 | NA            | NA       | NA | NA | 1 |\n",
       "| 2/4/2011  | 11101 | Friday    | 7 | 2 | 2011 | NA            | NA       | NA | NA | 0 |\n",
       "| 2/5/2011  | 11102 | Saturday  | 1 | 2 | 2011 | NA            | NA       | NA | NA | 1 |\n",
       "| 2/6/2011  | 11102 | Sunday    | 2 | 2 | 2011 | SuperBowl     | Sporting | NA | NA | 1 |\n",
       "| 2/7/2011  | 11102 | Monday    | 3 | 2 | 2011 | NA            | NA       | NA | NA | 1 |\n",
       "| 2/8/2011  | 11102 | Tuesday   | 4 | 2 | 2011 | NA            | NA       | NA | NA | 0 |\n",
       "| 2/9/2011  | 11102 | Wednesday | 5 | 2 | 2011 | NA            | NA       | NA | NA | 1 |\n",
       "| 2/10/2011 | 11102 | Thursday  | 6 | 2 | 2011 | NA            | NA       | NA | NA | 0 |\n",
       "| 2/11/2011 | 11102 | Friday    | 7 | 2 | 2011 | NA            | NA       | NA | NA | 1 |\n",
       "| 2/12/2011 | 11103 | Saturday  | 1 | 2 | 2011 | NA            | NA       | NA | NA | 1 |\n",
       "| 2/13/2011 | 11103 | Sunday    | 2 | 2 | 2011 | NA            | NA       | NA | NA | 1 |\n",
       "| 2/14/2011 | 11103 | Monday    | 3 | 2 | 2011 | ValentinesDay | Cultural | NA | NA | 0 |\n",
       "| 2/15/2011 | 11103 | Tuesday   | 4 | 2 | 2011 | NA            | NA       | NA | NA | 1 |\n",
       "| 2/16/2011 | 11103 | Wednesday | 5 | 2 | 2011 | NA            | NA       | NA | NA | 0 |\n",
       "| 2/17/2011 | 11103 | Thursday  | 6 | 2 | 2011 | NA            | NA       | NA | NA | 0 |\n",
       "| 2/18/2011 | 11103 | Friday    | 7 | 2 | 2011 | NA            | NA       | NA | NA | 0 |\n",
       "| 2/19/2011 | 11104 | Saturday  | 1 | 2 | 2011 | NA            | NA       | NA | NA | 0 |\n",
       "| 2/20/2011 | 11104 | Sunday    | 2 | 2 | 2011 | NA            | NA       | NA | NA | 0 |\n",
       "| 2/21/2011 | 11104 | Monday    | 3 | 2 | 2011 | PresidentsDay | National | NA | NA | 0 |\n",
       "| 2/22/2011 | 11104 | Tuesday   | 4 | 2 | 2011 | NA            | NA       | NA | NA | 0 |\n",
       "| 2/23/2011 | 11104 | Wednesday | 5 | 2 | 2011 | NA            | NA       | NA | NA | 0 |\n",
       "| 2/24/2011 | 11104 | Thursday  | 6 | 2 | 2011 | NA            | NA       | NA | NA | 0 |\n",
       "| 2/25/2011 | 11104 | Friday    | 7 | 2 | 2011 | NA            | NA       | NA | NA | 0 |\n",
       "| 2/26/2011 | 11105 | Saturday  | 1 | 2 | 2011 | NA            | NA       | NA | NA | 0 |\n",
       "| 2/27/2011 | 11105 | Sunday    | 2 | 2 | 2011 | NA            | NA       | NA | NA | 0 |\n",
       "| ⋮ | ⋮ | ⋮ | ⋮ | ⋮ | ⋮ | ⋮ | ⋮ | ⋮ | ⋮ | ⋮ |\n",
       "| 5/21/2016 | 11617 | Saturday  | 1 | 5 | 2016 | NA             | NA        | NA           | NA       | 0 |\n",
       "| 5/22/2016 | 11617 | Sunday    | 2 | 5 | 2016 | NA             | NA        | NA           | NA       | 0 |\n",
       "| 5/23/2016 | 11617 | Monday    | 3 | 5 | 2016 | NA             | NA        | NA           | NA       | 0 |\n",
       "| 5/24/2016 | 11617 | Tuesday   | 4 | 5 | 2016 | NA             | NA        | NA           | NA       | 0 |\n",
       "| 5/25/2016 | 11617 | Wednesday | 5 | 5 | 2016 | NA             | NA        | NA           | NA       | 0 |\n",
       "| 5/26/2016 | 11617 | Thursday  | 6 | 5 | 2016 | NA             | NA        | NA           | NA       | 0 |\n",
       "| 5/27/2016 | 11617 | Friday    | 7 | 5 | 2016 | NA             | NA        | NA           | NA       | 0 |\n",
       "| 5/28/2016 | 11618 | Saturday  | 1 | 5 | 2016 | NA             | NA        | NA           | NA       | 0 |\n",
       "| 5/29/2016 | 11618 | Sunday    | 2 | 5 | 2016 | NA             | NA        | NA           | NA       | 0 |\n",
       "| 5/30/2016 | 11618 | Monday    | 3 | 5 | 2016 | MemorialDay    | National  | NA           | NA       | 0 |\n",
       "| 5/31/2016 | 11618 | Tuesday   | 4 | 5 | 2016 | NA             | NA        | NA           | NA       | 0 |\n",
       "| 6/1/2016  | 11618 | Wednesday | 5 | 6 | 2016 | NA             | NA        | NA           | NA       | 1 |\n",
       "| 6/2/2016  | 11618 | Thursday  | 6 | 6 | 2016 | NBAFinalsStart | Sporting  | NA           | NA       | 0 |\n",
       "| 6/3/2016  | 11618 | Friday    | 7 | 6 | 2016 | NA             | NA        | NA           | NA       | 1 |\n",
       "| 6/4/2016  | 11619 | Saturday  | 1 | 6 | 2016 | NA             | NA        | NA           | NA       | 0 |\n",
       "| 6/5/2016  | 11619 | Sunday    | 2 | 6 | 2016 | NA             | NA        | NA           | NA       | 1 |\n",
       "| 6/6/2016  | 11619 | Monday    | 3 | 6 | 2016 | NA             | NA        | NA           | NA       | 1 |\n",
       "| 6/7/2016  | 11619 | Tuesday   | 4 | 6 | 2016 | Ramadan starts | Religious | NA           | NA       | 1 |\n",
       "| 6/8/2016  | 11619 | Wednesday | 5 | 6 | 2016 | NA             | NA        | NA           | NA       | 0 |\n",
       "| 6/9/2016  | 11619 | Thursday  | 6 | 6 | 2016 | NA             | NA        | NA           | NA       | 1 |\n",
       "| 6/10/2016 | 11619 | Friday    | 7 | 6 | 2016 | NA             | NA        | NA           | NA       | 0 |\n",
       "| 6/11/2016 | 11620 | Saturday  | 1 | 6 | 2016 | NA             | NA        | NA           | NA       | 1 |\n",
       "| 6/12/2016 | 11620 | Sunday    | 2 | 6 | 2016 | NA             | NA        | NA           | NA       | 1 |\n",
       "| 6/13/2016 | 11620 | Monday    | 3 | 6 | 2016 | NA             | NA        | NA           | NA       | 1 |\n",
       "| 6/14/2016 | 11620 | Tuesday   | 4 | 6 | 2016 | NA             | NA        | NA           | NA       | 0 |\n",
       "| 6/15/2016 | 11620 | Wednesday | 5 | 6 | 2016 | NA             | NA        | NA           | NA       | 1 |\n",
       "| 6/16/2016 | 11620 | Thursday  | 6 | 6 | 2016 | NA             | NA        | NA           | NA       | 0 |\n",
       "| 6/17/2016 | 11620 | Friday    | 7 | 6 | 2016 | NA             | NA        | NA           | NA       | 0 |\n",
       "| 6/18/2016 | 11621 | Saturday  | 1 | 6 | 2016 | NA             | NA        | NA           | NA       | 0 |\n",
       "| 6/19/2016 | 11621 | Sunday    | 2 | 6 | 2016 | NBAFinalsEnd   | Sporting  | Father's day | Cultural | 0 |\n",
       "\n"
      ],
      "text/plain": [
       "     date      wm_yr_wk weekday   wday month year event_name_1   event_type_1\n",
       "1    1/29/2011 11101    Saturday  1    1     2011 NA             NA          \n",
       "2    1/30/2011 11101    Sunday    2    1     2011 NA             NA          \n",
       "3    1/31/2011 11101    Monday    3    1     2011 NA             NA          \n",
       "4    2/1/2011  11101    Tuesday   4    2     2011 NA             NA          \n",
       "5    2/2/2011  11101    Wednesday 5    2     2011 NA             NA          \n",
       "6    2/3/2011  11101    Thursday  6    2     2011 NA             NA          \n",
       "7    2/4/2011  11101    Friday    7    2     2011 NA             NA          \n",
       "8    2/5/2011  11102    Saturday  1    2     2011 NA             NA          \n",
       "9    2/6/2011  11102    Sunday    2    2     2011 SuperBowl      Sporting    \n",
       "10   2/7/2011  11102    Monday    3    2     2011 NA             NA          \n",
       "11   2/8/2011  11102    Tuesday   4    2     2011 NA             NA          \n",
       "12   2/9/2011  11102    Wednesday 5    2     2011 NA             NA          \n",
       "13   2/10/2011 11102    Thursday  6    2     2011 NA             NA          \n",
       "14   2/11/2011 11102    Friday    7    2     2011 NA             NA          \n",
       "15   2/12/2011 11103    Saturday  1    2     2011 NA             NA          \n",
       "16   2/13/2011 11103    Sunday    2    2     2011 NA             NA          \n",
       "17   2/14/2011 11103    Monday    3    2     2011 ValentinesDay  Cultural    \n",
       "18   2/15/2011 11103    Tuesday   4    2     2011 NA             NA          \n",
       "19   2/16/2011 11103    Wednesday 5    2     2011 NA             NA          \n",
       "20   2/17/2011 11103    Thursday  6    2     2011 NA             NA          \n",
       "21   2/18/2011 11103    Friday    7    2     2011 NA             NA          \n",
       "22   2/19/2011 11104    Saturday  1    2     2011 NA             NA          \n",
       "23   2/20/2011 11104    Sunday    2    2     2011 NA             NA          \n",
       "24   2/21/2011 11104    Monday    3    2     2011 PresidentsDay  National    \n",
       "25   2/22/2011 11104    Tuesday   4    2     2011 NA             NA          \n",
       "26   2/23/2011 11104    Wednesday 5    2     2011 NA             NA          \n",
       "27   2/24/2011 11104    Thursday  6    2     2011 NA             NA          \n",
       "28   2/25/2011 11104    Friday    7    2     2011 NA             NA          \n",
       "29   2/26/2011 11105    Saturday  1    2     2011 NA             NA          \n",
       "30   2/27/2011 11105    Sunday    2    2     2011 NA             NA          \n",
       "⋮    ⋮         ⋮        ⋮         ⋮    ⋮     ⋮    ⋮              ⋮           \n",
       "1940 5/21/2016 11617    Saturday  1    5     2016 NA             NA          \n",
       "1941 5/22/2016 11617    Sunday    2    5     2016 NA             NA          \n",
       "1942 5/23/2016 11617    Monday    3    5     2016 NA             NA          \n",
       "1943 5/24/2016 11617    Tuesday   4    5     2016 NA             NA          \n",
       "1944 5/25/2016 11617    Wednesday 5    5     2016 NA             NA          \n",
       "1945 5/26/2016 11617    Thursday  6    5     2016 NA             NA          \n",
       "1946 5/27/2016 11617    Friday    7    5     2016 NA             NA          \n",
       "1947 5/28/2016 11618    Saturday  1    5     2016 NA             NA          \n",
       "1948 5/29/2016 11618    Sunday    2    5     2016 NA             NA          \n",
       "1949 5/30/2016 11618    Monday    3    5     2016 MemorialDay    National    \n",
       "1950 5/31/2016 11618    Tuesday   4    5     2016 NA             NA          \n",
       "1951 6/1/2016  11618    Wednesday 5    6     2016 NA             NA          \n",
       "1952 6/2/2016  11618    Thursday  6    6     2016 NBAFinalsStart Sporting    \n",
       "1953 6/3/2016  11618    Friday    7    6     2016 NA             NA          \n",
       "1954 6/4/2016  11619    Saturday  1    6     2016 NA             NA          \n",
       "1955 6/5/2016  11619    Sunday    2    6     2016 NA             NA          \n",
       "1956 6/6/2016  11619    Monday    3    6     2016 NA             NA          \n",
       "1957 6/7/2016  11619    Tuesday   4    6     2016 Ramadan starts Religious   \n",
       "1958 6/8/2016  11619    Wednesday 5    6     2016 NA             NA          \n",
       "1959 6/9/2016  11619    Thursday  6    6     2016 NA             NA          \n",
       "1960 6/10/2016 11619    Friday    7    6     2016 NA             NA          \n",
       "1961 6/11/2016 11620    Saturday  1    6     2016 NA             NA          \n",
       "1962 6/12/2016 11620    Sunday    2    6     2016 NA             NA          \n",
       "1963 6/13/2016 11620    Monday    3    6     2016 NA             NA          \n",
       "1964 6/14/2016 11620    Tuesday   4    6     2016 NA             NA          \n",
       "1965 6/15/2016 11620    Wednesday 5    6     2016 NA             NA          \n",
       "1966 6/16/2016 11620    Thursday  6    6     2016 NA             NA          \n",
       "1967 6/17/2016 11620    Friday    7    6     2016 NA             NA          \n",
       "1968 6/18/2016 11621    Saturday  1    6     2016 NA             NA          \n",
       "1969 6/19/2016 11621    Sunday    2    6     2016 NBAFinalsEnd   Sporting    \n",
       "     event_name_2 event_type_2 snap_TX\n",
       "1    NA           NA           0      \n",
       "2    NA           NA           0      \n",
       "3    NA           NA           0      \n",
       "4    NA           NA           1      \n",
       "5    NA           NA           0      \n",
       "6    NA           NA           1      \n",
       "7    NA           NA           0      \n",
       "8    NA           NA           1      \n",
       "9    NA           NA           1      \n",
       "10   NA           NA           1      \n",
       "11   NA           NA           0      \n",
       "12   NA           NA           1      \n",
       "13   NA           NA           0      \n",
       "14   NA           NA           1      \n",
       "15   NA           NA           1      \n",
       "16   NA           NA           1      \n",
       "17   NA           NA           0      \n",
       "18   NA           NA           1      \n",
       "19   NA           NA           0      \n",
       "20   NA           NA           0      \n",
       "21   NA           NA           0      \n",
       "22   NA           NA           0      \n",
       "23   NA           NA           0      \n",
       "24   NA           NA           0      \n",
       "25   NA           NA           0      \n",
       "26   NA           NA           0      \n",
       "27   NA           NA           0      \n",
       "28   NA           NA           0      \n",
       "29   NA           NA           0      \n",
       "30   NA           NA           0      \n",
       "⋮    ⋮            ⋮            ⋮      \n",
       "1940 NA           NA           0      \n",
       "1941 NA           NA           0      \n",
       "1942 NA           NA           0      \n",
       "1943 NA           NA           0      \n",
       "1944 NA           NA           0      \n",
       "1945 NA           NA           0      \n",
       "1946 NA           NA           0      \n",
       "1947 NA           NA           0      \n",
       "1948 NA           NA           0      \n",
       "1949 NA           NA           0      \n",
       "1950 NA           NA           0      \n",
       "1951 NA           NA           1      \n",
       "1952 NA           NA           0      \n",
       "1953 NA           NA           1      \n",
       "1954 NA           NA           0      \n",
       "1955 NA           NA           1      \n",
       "1956 NA           NA           1      \n",
       "1957 NA           NA           1      \n",
       "1958 NA           NA           0      \n",
       "1959 NA           NA           1      \n",
       "1960 NA           NA           0      \n",
       "1961 NA           NA           1      \n",
       "1962 NA           NA           1      \n",
       "1963 NA           NA           1      \n",
       "1964 NA           NA           0      \n",
       "1965 NA           NA           1      \n",
       "1966 NA           NA           0      \n",
       "1967 NA           NA           0      \n",
       "1968 NA           NA           0      \n",
       "1969 Father's day Cultural     0      "
      ]
     },
     "metadata": {},
     "output_type": "display_data"
    }
   ],
   "source": [
    "calendar"
   ]
  },
  {
   "cell_type": "markdown",
   "metadata": {},
   "source": [
    "### Events per day of the week"
   ]
  },
  {
   "cell_type": "code",
   "execution_count": 32,
   "metadata": {
    "vscode": {
     "languageId": "r"
    }
   },
   "outputs": [
    {
     "data": {
      "image/png": "[encoded data removed]",
      "text/plain": [
       "plot without title"
      ]
     },
     "metadata": {
      "image/png": {
       "height": 420,
       "width": 420
      }
     },
     "output_type": "display_data"
    }
   ],
   "source": [
    "calendar %>%\n",
    "  group_by(weekday) %>%\n",
    "  summarise(event_count = sum(!is.na(event_name_1)) + sum(!is.na(event_name_2))) %>% # Count number of days that are not NA in events\n",
    "  ggplot(aes(x = reorder(weekday, event_count), y = event_count)) + # Order by amount of events\n",
    "  geom_bar(stat = \"identity\") +\n",
    "  labs(title = \"Event Count by Day of the Week\", x = \"Day\", y = \"Number of events\") + theme(aspect.ratio = 0.7)"
   ]
  },
  {
   "cell_type": "markdown",
   "metadata": {},
   "source": [
    "### Most common types of events"
   ]
  },
  {
   "cell_type": "code",
   "execution_count": 40,
   "metadata": {
    "vscode": {
     "languageId": "r"
    }
   },
   "outputs": [],
   "source": [
    "library(knitr)"
   ]
  },
  {
   "cell_type": "code",
   "execution_count": 41,
   "metadata": {
    "vscode": {
     "languageId": "r"
    }
   },
   "outputs": [],
   "source": [
    "most_common_events <- calendar %>%\n",
    "  select(event_type_1, event_type_2) %>%\n",
    "  pivot_longer(cols = everything(), values_to = \"event_type\")"
   ]
  },
  {
   "cell_type": "code",
   "execution_count": 51,
   "metadata": {
    "vscode": {
     "languageId": "r"
    }
   },
   "outputs": [
    {
     "data": {
      "text/html": [
       "<table class=\"dataframe\">\n",
       "<caption>A tibble: 4 × 2</caption>\n",
       "<thead>\n",
       "\t<tr><th scope=col>event_type</th><th scope=col>num_events</th></tr>\n",
       "\t<tr><th scope=col>&lt;chr&gt;</th><th scope=col>&lt;int&gt;</th></tr>\n",
       "</thead>\n",
       "<tbody>\n",
       "\t<tr><td>Religious</td><td>56</td></tr>\n",
       "\t<tr><td>National </td><td>52</td></tr>\n",
       "\t<tr><td>Cultural </td><td>41</td></tr>\n",
       "\t<tr><td>Sporting </td><td>18</td></tr>\n",
       "</tbody>\n",
       "</table>\n"
      ],
      "text/latex": [
       "A tibble: 4 × 2\n",
       "\\begin{tabular}{ll}\n",
       " event\\_type & num\\_events\\\\\n",
       " <chr> & <int>\\\\\n",
       "\\hline\n",
       "\t Religious & 56\\\\\n",
       "\t National  & 52\\\\\n",
       "\t Cultural  & 41\\\\\n",
       "\t Sporting  & 18\\\\\n",
       "\\end{tabular}\n"
      ],
      "text/markdown": [
       "\n",
       "A tibble: 4 × 2\n",
       "\n",
       "| event_type &lt;chr&gt; | num_events &lt;int&gt; |\n",
       "|---|---|\n",
       "| Religious | 56 |\n",
       "| National  | 52 |\n",
       "| Cultural  | 41 |\n",
       "| Sporting  | 18 |\n",
       "\n"
      ],
      "text/plain": [
       "  event_type num_events\n",
       "1 Religious  56        \n",
       "2 National   52        \n",
       "3 Cultural   41        \n",
       "4 Sporting   18        "
      ]
     },
     "metadata": {},
     "output_type": "display_data"
    },
    {
     "name": "stdout",
     "output_type": "stream",
     "text": [
      "\\begin{table}\n",
      "\n",
      "\\caption{Types of events}\n",
      "\\centering\n",
      "\\begin{tabular}[t]{lr}\n",
      "\\toprule\n",
      "event\\_type & num\\_events\\\\\n",
      "\\midrule\n",
      "Religious & 56\\\\\n",
      "National & 52\\\\\n",
      "Cultural & 41\\\\\n",
      "Sporting & 18\\\\\n",
      "\\bottomrule\n",
      "\\end{tabular}\n",
      "\\end{table}"
     ]
    }
   ],
   "source": [
    "# Combine evnt1 and event2 types and sum\n",
    "most_common_events <- calendar %>%\n",
    "  select(event_type_1, event_type_2) %>%\n",
    "  pivot_longer(cols = everything(), values_to = \"event_type\") %>%\n",
    "  filter(!is.na(event_type)) %>%\n",
    "  count(event_type, sort = TRUE) %>%\n",
    "  mutate(num_events = n) %>%\n",
    "  select(-n)\n",
    "most_common_events\n",
    "\n",
    "# Generate LaTeX code\n",
    "table_latex <- kable(most_common_events, format = \"latex\", caption = \"Types of events\", booktabs = TRUE)\n",
    "\n",
    "cat(table_latex)"
   ]
  },
  {
   "cell_type": "markdown",
   "metadata": {},
   "source": [
    "### Time of year with more events"
   ]
  },
  {
   "cell_type": "code",
   "execution_count": 60,
   "metadata": {
    "vscode": {
     "languageId": "r"
    }
   },
   "outputs": [
    {
     "name": "stderr",
     "output_type": "stream",
     "text": [
      "\u001b[1m\u001b[22m`summarise()` has grouped output by 'month'. You can override using the\n",
      "`.groups` argument.\n"
     ]
    },
    {
     "data": {
      "image/png": "[encoded data removed]",
      "text/plain": [
       "plot without title"
      ]
     },
     "metadata": {
      "image/png": {
       "height": 420,
       "width": 1080
      }
     },
     "output_type": "display_data"
    }
   ],
   "source": [
    "calendar %>%\n",
    "  mutate(week = wm_yr_wk %% 100) %>%\n",
    "  group_by(month, year) %>%\n",
    "  summarise(event_count = sum(!is.na(event_name_1)) + sum(!is.na(event_name_2))) %>%\n",
    "  mutate(YearMonth = yearmonth(paste(year, month, sep = \"-\"))) %>%\n",
    "  as_tsibble(index = YearMonth) %>%\n",
    "  ggplot(aes(x = YearMonth, y = event_count)) +\n",
    "  geom_col(fill = \"skyblue\", color = \"black\") + \n",
    "  theme(aspect.ratio = 0.8) + labs(title = \"Number of events per month\", x = \"Month and year\", y = \"Number of events\")"
   ]
  }
 ],
 "metadata": {
  "kernelspec": {
   "display_name": "R",
   "language": "R",
   "name": "ir"
  },
  "language_info": {
   "codemirror_mode": "r",
   "file_extension": ".r",
   "mimetype": "text/x-r-source",
   "name": "R",
   "pygments_lexer": "r",
   "version": "4.4.1"
  }
 },
 "nbformat": 4,
 "nbformat_minor": 2
}
